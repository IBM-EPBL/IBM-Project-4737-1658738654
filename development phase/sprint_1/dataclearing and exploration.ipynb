{
  "nbformat": 4,
  "nbformat_minor": 0,
  "metadata": {
    "colab": {
      "provenance": []
    },
    "kernelspec": {
      "name": "python3",
      "display_name": "Python 3"
    },
    "language_info": {
      "name": "python"
    }
  },
  "cells": [
    {
      "cell_type": "code",
      "execution_count": null,
      "metadata": {
        "id": "1eNb2MaZJMyd"
      },
      "outputs": [],
      "source": [
        "import numpy as np \n",
        "import pandas as pd \n",
        "import matplotlib.pyplot as plt\n",
        "import seaborn as sns\n",
        "\n"
      ]
    },
    {
      "cell_type": "code",
      "source": [
        "df= pd.read_csv('/content/drive/MyDrive/Sub_Division_IMD_2017.csv')"
      ],
      "metadata": {
        "id": "QeGku9E2PTAb"
      },
      "execution_count": null,
      "outputs": []
    },
    {
      "cell_type": "code",
      "source": [
        "\n",
        "\n",
        "df.SUBDIVISION.unique()"
      ],
      "metadata": {
        "colab": {
          "base_uri": "https://localhost:8080/"
        },
        "id": "MobCGTlMPfU_",
        "outputId": "aa68c386-6d9e-412d-a38f-4e660d592863"
      },
      "execution_count": null,
      "outputs": [
        {
          "output_type": "execute_result",
          "data": {
            "text/plain": [
              "array(['Andaman & Nicobar Islands', 'Arunachal Pradesh',\n",
              "       'Assam & Meghalaya', 'Naga Mani Mizo Tripura',\n",
              "       'Sub Himalayan West Bengal & Sikkim', 'Gangetic West Bengal',\n",
              "       'Orissa', 'Jharkhand', 'Bihar', 'East Uttar Pradesh',\n",
              "       'West Uttar Pradesh', 'Uttarakhand', 'Haryana Delhi & Chandigarh',\n",
              "       'Punjab', 'Himachal Pradesh', 'Jammu & Kashmir', 'West Rajasthan',\n",
              "       'East Rajasthan', 'West Madhya Pradesh', 'East Madhya Pradesh',\n",
              "       'Gujarat Region', 'Saurashtra & Kutch', 'Konkan & Goa',\n",
              "       'Madhya Maharashtra', 'Matathwada', 'Vidarbha', 'Chhattisgarh',\n",
              "       'Coastal Andhra Pradesh', 'Telangana', 'Rayalseema', 'Tamil Nadu',\n",
              "       'Coastal Karnataka', 'North Interior Karnataka',\n",
              "       'South Interior Karnataka', 'Kerala', 'Lakshadweep'], dtype=object)"
            ]
          },
          "metadata": {},
          "execution_count": 3
        }
      ]
    },
    {
      "cell_type": "code",
      "source": [
        "print(\"Total number of unique years are: \",df.YEAR.nunique())"
      ],
      "metadata": {
        "colab": {
          "base_uri": "https://localhost:8080/"
        },
        "id": "TXVUZM7jQIqH",
        "outputId": "1d9fb6db-8d38-4dda-d281-b0a5513b1868"
      },
      "execution_count": null,
      "outputs": [
        {
          "output_type": "stream",
          "name": "stdout",
          "text": [
            "Total number of unique years are:  117\n"
          ]
        }
      ]
    },
    {
      "cell_type": "code",
      "source": [
        "df.info()"
      ],
      "metadata": {
        "colab": {
          "base_uri": "https://localhost:8080/"
        },
        "id": "KJmqDTWsQQwA",
        "outputId": "9fb16b5a-112b-4205-b9fb-0153261a3f9a"
      },
      "execution_count": null,
      "outputs": [
        {
          "output_type": "stream",
          "name": "stdout",
          "text": [
            "<class 'pandas.core.frame.DataFrame'>\n",
            "RangeIndex: 4188 entries, 0 to 4187\n",
            "Data columns (total 19 columns):\n",
            " #   Column       Non-Null Count  Dtype  \n",
            "---  ------       --------------  -----  \n",
            " 0   SUBDIVISION  4188 non-null   object \n",
            " 1   YEAR         4188 non-null   int64  \n",
            " 2   JAN          4184 non-null   float64\n",
            " 3   FEB          4185 non-null   float64\n",
            " 4   MAR          4182 non-null   float64\n",
            " 5   APR          4184 non-null   float64\n",
            " 6   MAY          4185 non-null   float64\n",
            " 7   JUN          4183 non-null   float64\n",
            " 8   JUL          4181 non-null   float64\n",
            " 9   AUG          4184 non-null   float64\n",
            " 10  SEP          4182 non-null   float64\n",
            " 11  OCT          4181 non-null   float64\n",
            " 12  NOV          4177 non-null   float64\n",
            " 13  DEC          4178 non-null   float64\n",
            " 14  ANNUAL       4162 non-null   float64\n",
            " 15  JF           4182 non-null   float64\n",
            " 16  MAM          4179 non-null   float64\n",
            " 17  JJAS         4178 non-null   float64\n",
            " 18  OND          4175 non-null   float64\n",
            "dtypes: float64(17), int64(1), object(1)\n",
            "memory usage: 621.8+ KB\n"
          ]
        }
      ]
    },
    {
      "cell_type": "code",
      "source": [
        "df.head()"
      ],
      "metadata": {
        "colab": {
          "base_uri": "https://localhost:8080/",
          "height": 444
        },
        "id": "DBtKV5vtYsP4",
        "outputId": "4267abd1-8ba0-4d40-c393-5fa8d0c5e400"
      },
      "execution_count": null,
      "outputs": [
        {
          "output_type": "execute_result",
          "data": {
            "text/plain": [
              "                 SUBDIVISION  YEAR   JAN    FEB   MAR    APR    MAY    JUN  \\\n",
              "0  Andaman & Nicobar Islands  1901  49.2   87.1  29.2    2.3  528.8  517.5   \n",
              "1  Andaman & Nicobar Islands  1902   0.0  159.8  12.2    0.0  446.1  537.1   \n",
              "2  Andaman & Nicobar Islands  1903  12.7  144.0   0.0    1.0  235.1  479.9   \n",
              "3  Andaman & Nicobar Islands  1904   9.4   14.7   0.0  202.4  304.5  495.1   \n",
              "4  Andaman & Nicobar Islands  1905   1.3    0.0   3.3   26.9  279.5  628.7   \n",
              "\n",
              "     JUL    AUG    SEP    OCT    NOV    DEC  ANNUAL     JF    MAM    JJAS  \\\n",
              "0  365.1  481.1  332.6  388.5  558.2   33.6  3373.2  136.3  560.3  1696.3   \n",
              "1  228.9  753.7  666.2  197.2  359.0  160.5  3520.7  159.8  458.3  2185.9   \n",
              "2  728.4  326.7  339.0  181.2  284.4  225.0  2957.4  156.7  236.1  1874.0   \n",
              "3  502.0  160.1  820.4  222.2  308.7   40.1  3079.6   24.1  506.9  1977.6   \n",
              "4  368.7  330.5  297.0  260.7   25.4  344.7  2566.7    1.3  309.7  1624.9   \n",
              "\n",
              "     OND  \n",
              "0  980.3  \n",
              "1  716.7  \n",
              "2  690.6  \n",
              "3  571.0  \n",
              "4  630.8  "
            ],
            "text/html": [
              "\n",
              "  <div id=\"df-816e980b-f7c3-470f-9ebd-7a26e7ff5612\">\n",
              "    <div class=\"colab-df-container\">\n",
              "      <div>\n",
              "<style scoped>\n",
              "    .dataframe tbody tr th:only-of-type {\n",
              "        vertical-align: middle;\n",
              "    }\n",
              "\n",
              "    .dataframe tbody tr th {\n",
              "        vertical-align: top;\n",
              "    }\n",
              "\n",
              "    .dataframe thead th {\n",
              "        text-align: right;\n",
              "    }\n",
              "</style>\n",
              "<table border=\"1\" class=\"dataframe\">\n",
              "  <thead>\n",
              "    <tr style=\"text-align: right;\">\n",
              "      <th></th>\n",
              "      <th>SUBDIVISION</th>\n",
              "      <th>YEAR</th>\n",
              "      <th>JAN</th>\n",
              "      <th>FEB</th>\n",
              "      <th>MAR</th>\n",
              "      <th>APR</th>\n",
              "      <th>MAY</th>\n",
              "      <th>JUN</th>\n",
              "      <th>JUL</th>\n",
              "      <th>AUG</th>\n",
              "      <th>SEP</th>\n",
              "      <th>OCT</th>\n",
              "      <th>NOV</th>\n",
              "      <th>DEC</th>\n",
              "      <th>ANNUAL</th>\n",
              "      <th>JF</th>\n",
              "      <th>MAM</th>\n",
              "      <th>JJAS</th>\n",
              "      <th>OND</th>\n",
              "    </tr>\n",
              "  </thead>\n",
              "  <tbody>\n",
              "    <tr>\n",
              "      <th>0</th>\n",
              "      <td>Andaman &amp; Nicobar Islands</td>\n",
              "      <td>1901</td>\n",
              "      <td>49.2</td>\n",
              "      <td>87.1</td>\n",
              "      <td>29.2</td>\n",
              "      <td>2.3</td>\n",
              "      <td>528.8</td>\n",
              "      <td>517.5</td>\n",
              "      <td>365.1</td>\n",
              "      <td>481.1</td>\n",
              "      <td>332.6</td>\n",
              "      <td>388.5</td>\n",
              "      <td>558.2</td>\n",
              "      <td>33.6</td>\n",
              "      <td>3373.2</td>\n",
              "      <td>136.3</td>\n",
              "      <td>560.3</td>\n",
              "      <td>1696.3</td>\n",
              "      <td>980.3</td>\n",
              "    </tr>\n",
              "    <tr>\n",
              "      <th>1</th>\n",
              "      <td>Andaman &amp; Nicobar Islands</td>\n",
              "      <td>1902</td>\n",
              "      <td>0.0</td>\n",
              "      <td>159.8</td>\n",
              "      <td>12.2</td>\n",
              "      <td>0.0</td>\n",
              "      <td>446.1</td>\n",
              "      <td>537.1</td>\n",
              "      <td>228.9</td>\n",
              "      <td>753.7</td>\n",
              "      <td>666.2</td>\n",
              "      <td>197.2</td>\n",
              "      <td>359.0</td>\n",
              "      <td>160.5</td>\n",
              "      <td>3520.7</td>\n",
              "      <td>159.8</td>\n",
              "      <td>458.3</td>\n",
              "      <td>2185.9</td>\n",
              "      <td>716.7</td>\n",
              "    </tr>\n",
              "    <tr>\n",
              "      <th>2</th>\n",
              "      <td>Andaman &amp; Nicobar Islands</td>\n",
              "      <td>1903</td>\n",
              "      <td>12.7</td>\n",
              "      <td>144.0</td>\n",
              "      <td>0.0</td>\n",
              "      <td>1.0</td>\n",
              "      <td>235.1</td>\n",
              "      <td>479.9</td>\n",
              "      <td>728.4</td>\n",
              "      <td>326.7</td>\n",
              "      <td>339.0</td>\n",
              "      <td>181.2</td>\n",
              "      <td>284.4</td>\n",
              "      <td>225.0</td>\n",
              "      <td>2957.4</td>\n",
              "      <td>156.7</td>\n",
              "      <td>236.1</td>\n",
              "      <td>1874.0</td>\n",
              "      <td>690.6</td>\n",
              "    </tr>\n",
              "    <tr>\n",
              "      <th>3</th>\n",
              "      <td>Andaman &amp; Nicobar Islands</td>\n",
              "      <td>1904</td>\n",
              "      <td>9.4</td>\n",
              "      <td>14.7</td>\n",
              "      <td>0.0</td>\n",
              "      <td>202.4</td>\n",
              "      <td>304.5</td>\n",
              "      <td>495.1</td>\n",
              "      <td>502.0</td>\n",
              "      <td>160.1</td>\n",
              "      <td>820.4</td>\n",
              "      <td>222.2</td>\n",
              "      <td>308.7</td>\n",
              "      <td>40.1</td>\n",
              "      <td>3079.6</td>\n",
              "      <td>24.1</td>\n",
              "      <td>506.9</td>\n",
              "      <td>1977.6</td>\n",
              "      <td>571.0</td>\n",
              "    </tr>\n",
              "    <tr>\n",
              "      <th>4</th>\n",
              "      <td>Andaman &amp; Nicobar Islands</td>\n",
              "      <td>1905</td>\n",
              "      <td>1.3</td>\n",
              "      <td>0.0</td>\n",
              "      <td>3.3</td>\n",
              "      <td>26.9</td>\n",
              "      <td>279.5</td>\n",
              "      <td>628.7</td>\n",
              "      <td>368.7</td>\n",
              "      <td>330.5</td>\n",
              "      <td>297.0</td>\n",
              "      <td>260.7</td>\n",
              "      <td>25.4</td>\n",
              "      <td>344.7</td>\n",
              "      <td>2566.7</td>\n",
              "      <td>1.3</td>\n",
              "      <td>309.7</td>\n",
              "      <td>1624.9</td>\n",
              "      <td>630.8</td>\n",
              "    </tr>\n",
              "  </tbody>\n",
              "</table>\n",
              "</div>\n",
              "      <button class=\"colab-df-convert\" onclick=\"convertToInteractive('df-816e980b-f7c3-470f-9ebd-7a26e7ff5612')\"\n",
              "              title=\"Convert this dataframe to an interactive table.\"\n",
              "              style=\"display:none;\">\n",
              "        \n",
              "  <svg xmlns=\"http://www.w3.org/2000/svg\" height=\"24px\"viewBox=\"0 0 24 24\"\n",
              "       width=\"24px\">\n",
              "    <path d=\"M0 0h24v24H0V0z\" fill=\"none\"/>\n",
              "    <path d=\"M18.56 5.44l.94 2.06.94-2.06 2.06-.94-2.06-.94-.94-2.06-.94 2.06-2.06.94zm-11 1L8.5 8.5l.94-2.06 2.06-.94-2.06-.94L8.5 2.5l-.94 2.06-2.06.94zm10 10l.94 2.06.94-2.06 2.06-.94-2.06-.94-.94-2.06-.94 2.06-2.06.94z\"/><path d=\"M17.41 7.96l-1.37-1.37c-.4-.4-.92-.59-1.43-.59-.52 0-1.04.2-1.43.59L10.3 9.45l-7.72 7.72c-.78.78-.78 2.05 0 2.83L4 21.41c.39.39.9.59 1.41.59.51 0 1.02-.2 1.41-.59l7.78-7.78 2.81-2.81c.8-.78.8-2.07 0-2.86zM5.41 20L4 18.59l7.72-7.72 1.47 1.35L5.41 20z\"/>\n",
              "  </svg>\n",
              "      </button>\n",
              "      \n",
              "  <style>\n",
              "    .colab-df-container {\n",
              "      display:flex;\n",
              "      flex-wrap:wrap;\n",
              "      gap: 12px;\n",
              "    }\n",
              "\n",
              "    .colab-df-convert {\n",
              "      background-color: #E8F0FE;\n",
              "      border: none;\n",
              "      border-radius: 50%;\n",
              "      cursor: pointer;\n",
              "      display: none;\n",
              "      fill: #1967D2;\n",
              "      height: 32px;\n",
              "      padding: 0 0 0 0;\n",
              "      width: 32px;\n",
              "    }\n",
              "\n",
              "    .colab-df-convert:hover {\n",
              "      background-color: #E2EBFA;\n",
              "      box-shadow: 0px 1px 2px rgba(60, 64, 67, 0.3), 0px 1px 3px 1px rgba(60, 64, 67, 0.15);\n",
              "      fill: #174EA6;\n",
              "    }\n",
              "\n",
              "    [theme=dark] .colab-df-convert {\n",
              "      background-color: #3B4455;\n",
              "      fill: #D2E3FC;\n",
              "    }\n",
              "\n",
              "    [theme=dark] .colab-df-convert:hover {\n",
              "      background-color: #434B5C;\n",
              "      box-shadow: 0px 1px 3px 1px rgba(0, 0, 0, 0.15);\n",
              "      filter: drop-shadow(0px 1px 2px rgba(0, 0, 0, 0.3));\n",
              "      fill: #FFFFFF;\n",
              "    }\n",
              "  </style>\n",
              "\n",
              "      <script>\n",
              "        const buttonEl =\n",
              "          document.querySelector('#df-816e980b-f7c3-470f-9ebd-7a26e7ff5612 button.colab-df-convert');\n",
              "        buttonEl.style.display =\n",
              "          google.colab.kernel.accessAllowed ? 'block' : 'none';\n",
              "\n",
              "        async function convertToInteractive(key) {\n",
              "          const element = document.querySelector('#df-816e980b-f7c3-470f-9ebd-7a26e7ff5612');\n",
              "          const dataTable =\n",
              "            await google.colab.kernel.invokeFunction('convertToInteractive',\n",
              "                                                     [key], {});\n",
              "          if (!dataTable) return;\n",
              "\n",
              "          const docLinkHtml = 'Like what you see? Visit the ' +\n",
              "            '<a target=\"_blank\" href=https://colab.research.google.com/notebooks/data_table.ipynb>data table notebook</a>'\n",
              "            + ' to learn more about interactive tables.';\n",
              "          element.innerHTML = '';\n",
              "          dataTable['output_type'] = 'display_data';\n",
              "          await google.colab.output.renderOutput(dataTable, element);\n",
              "          const docLink = document.createElement('div');\n",
              "          docLink.innerHTML = docLinkHtml;\n",
              "          element.appendChild(docLink);\n",
              "        }\n",
              "      </script>\n",
              "    </div>\n",
              "  </div>\n",
              "  "
            ]
          },
          "metadata": {},
          "execution_count": 6
        }
      ]
    },
    {
      "cell_type": "code",
      "source": [
        "df.describe()"
      ],
      "metadata": {
        "colab": {
          "base_uri": "https://localhost:8080/",
          "height": 364
        },
        "id": "WInqXGWMQYWk",
        "outputId": "c6fbe2f1-5888-4826-82b9-e268b6e9b1dc"
      },
      "execution_count": null,
      "outputs": [
        {
          "output_type": "execute_result",
          "data": {
            "text/plain": [
              "              YEAR          JAN          FEB          MAR          APR  \\\n",
              "count  4188.000000  4184.000000  4185.000000  4182.000000  4184.000000   \n",
              "mean   1959.220630    18.938337    21.599427    27.412912    43.071845   \n",
              "std      33.717097    33.793128    35.731734    46.927963    68.150985   \n",
              "min    1901.000000     0.000000     0.000000     0.000000     0.000000   \n",
              "25%    1930.000000     0.600000     0.500000     1.000000     3.000000   \n",
              "50%    1959.000000     5.950000     6.500000     7.900000    15.450000   \n",
              "75%    1988.000000    22.000000    26.600000    31.375000    49.650000   \n",
              "max    2017.000000   583.700000   403.500000   605.600000   595.100000   \n",
              "\n",
              "               MAY          JUN          JUL          AUG          SEP  \\\n",
              "count  4185.000000  4183.000000  4181.000000  4184.000000  4182.000000   \n",
              "mean     85.660860   230.117475   347.020043   289.742185   197.316332   \n",
              "std     122.695137   234.292087   268.850702   188.426071   135.547646   \n",
              "min       0.000000     0.400000     0.000000     0.000000     0.100000   \n",
              "25%       8.600000    70.800000   175.600000   155.850000   100.400000   \n",
              "50%      36.900000   138.800000   285.000000   258.500000   173.700000   \n",
              "75%      97.800000   305.000000   418.500000   377.625000   266.125000   \n",
              "max    1168.600000  1609.900000  2362.800000  1664.600000  1222.000000   \n",
              "\n",
              "               OCT          NOV          DEC       ANNUAL           JF  \\\n",
              "count  4181.000000  4177.000000  4178.000000  4162.000000  4182.000000   \n",
              "mean     95.324707    39.496433    18.968645  1409.449207    40.522979   \n",
              "std      99.194851    68.358706    43.053759   902.599421    59.293904   \n",
              "min       0.000000     0.000000     0.000000    62.300000     0.000000   \n",
              "25%      14.600000     0.600000     0.100000   803.025000     4.000000   \n",
              "50%      65.200000     9.400000     3.000000  1120.350000    18.900000   \n",
              "75%     148.300000    45.300000    17.500000  1643.575000    50.175000   \n",
              "max     948.300000   648.900000   617.500000  6331.100000   699.500000   \n",
              "\n",
              "               MAM         JJAS          OND  \n",
              "count  4179.000000  4178.000000  4175.000000  \n",
              "mean    155.820914  1063.851580   153.648623  \n",
              "std     201.198627   706.666045   166.863171  \n",
              "min       0.000000    57.400000     0.000000  \n",
              "25%      24.000000   573.850000    34.000000  \n",
              "50%      74.800000   880.600000    97.700000  \n",
              "75%     196.950000  1287.450000   211.800000  \n",
              "max    1745.800000  4536.900000  1252.500000  "
            ],
            "text/html": [
              "\n",
              "  <div id=\"df-b0187c00-9256-4992-a0af-853919663010\">\n",
              "    <div class=\"colab-df-container\">\n",
              "      <div>\n",
              "<style scoped>\n",
              "    .dataframe tbody tr th:only-of-type {\n",
              "        vertical-align: middle;\n",
              "    }\n",
              "\n",
              "    .dataframe tbody tr th {\n",
              "        vertical-align: top;\n",
              "    }\n",
              "\n",
              "    .dataframe thead th {\n",
              "        text-align: right;\n",
              "    }\n",
              "</style>\n",
              "<table border=\"1\" class=\"dataframe\">\n",
              "  <thead>\n",
              "    <tr style=\"text-align: right;\">\n",
              "      <th></th>\n",
              "      <th>YEAR</th>\n",
              "      <th>JAN</th>\n",
              "      <th>FEB</th>\n",
              "      <th>MAR</th>\n",
              "      <th>APR</th>\n",
              "      <th>MAY</th>\n",
              "      <th>JUN</th>\n",
              "      <th>JUL</th>\n",
              "      <th>AUG</th>\n",
              "      <th>SEP</th>\n",
              "      <th>OCT</th>\n",
              "      <th>NOV</th>\n",
              "      <th>DEC</th>\n",
              "      <th>ANNUAL</th>\n",
              "      <th>JF</th>\n",
              "      <th>MAM</th>\n",
              "      <th>JJAS</th>\n",
              "      <th>OND</th>\n",
              "    </tr>\n",
              "  </thead>\n",
              "  <tbody>\n",
              "    <tr>\n",
              "      <th>count</th>\n",
              "      <td>4188.000000</td>\n",
              "      <td>4184.000000</td>\n",
              "      <td>4185.000000</td>\n",
              "      <td>4182.000000</td>\n",
              "      <td>4184.000000</td>\n",
              "      <td>4185.000000</td>\n",
              "      <td>4183.000000</td>\n",
              "      <td>4181.000000</td>\n",
              "      <td>4184.000000</td>\n",
              "      <td>4182.000000</td>\n",
              "      <td>4181.000000</td>\n",
              "      <td>4177.000000</td>\n",
              "      <td>4178.000000</td>\n",
              "      <td>4162.000000</td>\n",
              "      <td>4182.000000</td>\n",
              "      <td>4179.000000</td>\n",
              "      <td>4178.000000</td>\n",
              "      <td>4175.000000</td>\n",
              "    </tr>\n",
              "    <tr>\n",
              "      <th>mean</th>\n",
              "      <td>1959.220630</td>\n",
              "      <td>18.938337</td>\n",
              "      <td>21.599427</td>\n",
              "      <td>27.412912</td>\n",
              "      <td>43.071845</td>\n",
              "      <td>85.660860</td>\n",
              "      <td>230.117475</td>\n",
              "      <td>347.020043</td>\n",
              "      <td>289.742185</td>\n",
              "      <td>197.316332</td>\n",
              "      <td>95.324707</td>\n",
              "      <td>39.496433</td>\n",
              "      <td>18.968645</td>\n",
              "      <td>1409.449207</td>\n",
              "      <td>40.522979</td>\n",
              "      <td>155.820914</td>\n",
              "      <td>1063.851580</td>\n",
              "      <td>153.648623</td>\n",
              "    </tr>\n",
              "    <tr>\n",
              "      <th>std</th>\n",
              "      <td>33.717097</td>\n",
              "      <td>33.793128</td>\n",
              "      <td>35.731734</td>\n",
              "      <td>46.927963</td>\n",
              "      <td>68.150985</td>\n",
              "      <td>122.695137</td>\n",
              "      <td>234.292087</td>\n",
              "      <td>268.850702</td>\n",
              "      <td>188.426071</td>\n",
              "      <td>135.547646</td>\n",
              "      <td>99.194851</td>\n",
              "      <td>68.358706</td>\n",
              "      <td>43.053759</td>\n",
              "      <td>902.599421</td>\n",
              "      <td>59.293904</td>\n",
              "      <td>201.198627</td>\n",
              "      <td>706.666045</td>\n",
              "      <td>166.863171</td>\n",
              "    </tr>\n",
              "    <tr>\n",
              "      <th>min</th>\n",
              "      <td>1901.000000</td>\n",
              "      <td>0.000000</td>\n",
              "      <td>0.000000</td>\n",
              "      <td>0.000000</td>\n",
              "      <td>0.000000</td>\n",
              "      <td>0.000000</td>\n",
              "      <td>0.400000</td>\n",
              "      <td>0.000000</td>\n",
              "      <td>0.000000</td>\n",
              "      <td>0.100000</td>\n",
              "      <td>0.000000</td>\n",
              "      <td>0.000000</td>\n",
              "      <td>0.000000</td>\n",
              "      <td>62.300000</td>\n",
              "      <td>0.000000</td>\n",
              "      <td>0.000000</td>\n",
              "      <td>57.400000</td>\n",
              "      <td>0.000000</td>\n",
              "    </tr>\n",
              "    <tr>\n",
              "      <th>25%</th>\n",
              "      <td>1930.000000</td>\n",
              "      <td>0.600000</td>\n",
              "      <td>0.500000</td>\n",
              "      <td>1.000000</td>\n",
              "      <td>3.000000</td>\n",
              "      <td>8.600000</td>\n",
              "      <td>70.800000</td>\n",
              "      <td>175.600000</td>\n",
              "      <td>155.850000</td>\n",
              "      <td>100.400000</td>\n",
              "      <td>14.600000</td>\n",
              "      <td>0.600000</td>\n",
              "      <td>0.100000</td>\n",
              "      <td>803.025000</td>\n",
              "      <td>4.000000</td>\n",
              "      <td>24.000000</td>\n",
              "      <td>573.850000</td>\n",
              "      <td>34.000000</td>\n",
              "    </tr>\n",
              "    <tr>\n",
              "      <th>50%</th>\n",
              "      <td>1959.000000</td>\n",
              "      <td>5.950000</td>\n",
              "      <td>6.500000</td>\n",
              "      <td>7.900000</td>\n",
              "      <td>15.450000</td>\n",
              "      <td>36.900000</td>\n",
              "      <td>138.800000</td>\n",
              "      <td>285.000000</td>\n",
              "      <td>258.500000</td>\n",
              "      <td>173.700000</td>\n",
              "      <td>65.200000</td>\n",
              "      <td>9.400000</td>\n",
              "      <td>3.000000</td>\n",
              "      <td>1120.350000</td>\n",
              "      <td>18.900000</td>\n",
              "      <td>74.800000</td>\n",
              "      <td>880.600000</td>\n",
              "      <td>97.700000</td>\n",
              "    </tr>\n",
              "    <tr>\n",
              "      <th>75%</th>\n",
              "      <td>1988.000000</td>\n",
              "      <td>22.000000</td>\n",
              "      <td>26.600000</td>\n",
              "      <td>31.375000</td>\n",
              "      <td>49.650000</td>\n",
              "      <td>97.800000</td>\n",
              "      <td>305.000000</td>\n",
              "      <td>418.500000</td>\n",
              "      <td>377.625000</td>\n",
              "      <td>266.125000</td>\n",
              "      <td>148.300000</td>\n",
              "      <td>45.300000</td>\n",
              "      <td>17.500000</td>\n",
              "      <td>1643.575000</td>\n",
              "      <td>50.175000</td>\n",
              "      <td>196.950000</td>\n",
              "      <td>1287.450000</td>\n",
              "      <td>211.800000</td>\n",
              "    </tr>\n",
              "    <tr>\n",
              "      <th>max</th>\n",
              "      <td>2017.000000</td>\n",
              "      <td>583.700000</td>\n",
              "      <td>403.500000</td>\n",
              "      <td>605.600000</td>\n",
              "      <td>595.100000</td>\n",
              "      <td>1168.600000</td>\n",
              "      <td>1609.900000</td>\n",
              "      <td>2362.800000</td>\n",
              "      <td>1664.600000</td>\n",
              "      <td>1222.000000</td>\n",
              "      <td>948.300000</td>\n",
              "      <td>648.900000</td>\n",
              "      <td>617.500000</td>\n",
              "      <td>6331.100000</td>\n",
              "      <td>699.500000</td>\n",
              "      <td>1745.800000</td>\n",
              "      <td>4536.900000</td>\n",
              "      <td>1252.500000</td>\n",
              "    </tr>\n",
              "  </tbody>\n",
              "</table>\n",
              "</div>\n",
              "      <button class=\"colab-df-convert\" onclick=\"convertToInteractive('df-b0187c00-9256-4992-a0af-853919663010')\"\n",
              "              title=\"Convert this dataframe to an interactive table.\"\n",
              "              style=\"display:none;\">\n",
              "        \n",
              "  <svg xmlns=\"http://www.w3.org/2000/svg\" height=\"24px\"viewBox=\"0 0 24 24\"\n",
              "       width=\"24px\">\n",
              "    <path d=\"M0 0h24v24H0V0z\" fill=\"none\"/>\n",
              "    <path d=\"M18.56 5.44l.94 2.06.94-2.06 2.06-.94-2.06-.94-.94-2.06-.94 2.06-2.06.94zm-11 1L8.5 8.5l.94-2.06 2.06-.94-2.06-.94L8.5 2.5l-.94 2.06-2.06.94zm10 10l.94 2.06.94-2.06 2.06-.94-2.06-.94-.94-2.06-.94 2.06-2.06.94z\"/><path d=\"M17.41 7.96l-1.37-1.37c-.4-.4-.92-.59-1.43-.59-.52 0-1.04.2-1.43.59L10.3 9.45l-7.72 7.72c-.78.78-.78 2.05 0 2.83L4 21.41c.39.39.9.59 1.41.59.51 0 1.02-.2 1.41-.59l7.78-7.78 2.81-2.81c.8-.78.8-2.07 0-2.86zM5.41 20L4 18.59l7.72-7.72 1.47 1.35L5.41 20z\"/>\n",
              "  </svg>\n",
              "      </button>\n",
              "      \n",
              "  <style>\n",
              "    .colab-df-container {\n",
              "      display:flex;\n",
              "      flex-wrap:wrap;\n",
              "      gap: 12px;\n",
              "    }\n",
              "\n",
              "    .colab-df-convert {\n",
              "      background-color: #E8F0FE;\n",
              "      border: none;\n",
              "      border-radius: 50%;\n",
              "      cursor: pointer;\n",
              "      display: none;\n",
              "      fill: #1967D2;\n",
              "      height: 32px;\n",
              "      padding: 0 0 0 0;\n",
              "      width: 32px;\n",
              "    }\n",
              "\n",
              "    .colab-df-convert:hover {\n",
              "      background-color: #E2EBFA;\n",
              "      box-shadow: 0px 1px 2px rgba(60, 64, 67, 0.3), 0px 1px 3px 1px rgba(60, 64, 67, 0.15);\n",
              "      fill: #174EA6;\n",
              "    }\n",
              "\n",
              "    [theme=dark] .colab-df-convert {\n",
              "      background-color: #3B4455;\n",
              "      fill: #D2E3FC;\n",
              "    }\n",
              "\n",
              "    [theme=dark] .colab-df-convert:hover {\n",
              "      background-color: #434B5C;\n",
              "      box-shadow: 0px 1px 3px 1px rgba(0, 0, 0, 0.15);\n",
              "      filter: drop-shadow(0px 1px 2px rgba(0, 0, 0, 0.3));\n",
              "      fill: #FFFFFF;\n",
              "    }\n",
              "  </style>\n",
              "\n",
              "      <script>\n",
              "        const buttonEl =\n",
              "          document.querySelector('#df-b0187c00-9256-4992-a0af-853919663010 button.colab-df-convert');\n",
              "        buttonEl.style.display =\n",
              "          google.colab.kernel.accessAllowed ? 'block' : 'none';\n",
              "\n",
              "        async function convertToInteractive(key) {\n",
              "          const element = document.querySelector('#df-b0187c00-9256-4992-a0af-853919663010');\n",
              "          const dataTable =\n",
              "            await google.colab.kernel.invokeFunction('convertToInteractive',\n",
              "                                                     [key], {});\n",
              "          if (!dataTable) return;\n",
              "\n",
              "          const docLinkHtml = 'Like what you see? Visit the ' +\n",
              "            '<a target=\"_blank\" href=https://colab.research.google.com/notebooks/data_table.ipynb>data table notebook</a>'\n",
              "            + ' to learn more about interactive tables.';\n",
              "          element.innerHTML = '';\n",
              "          dataTable['output_type'] = 'display_data';\n",
              "          await google.colab.output.renderOutput(dataTable, element);\n",
              "          const docLink = document.createElement('div');\n",
              "          docLink.innerHTML = docLinkHtml;\n",
              "          element.appendChild(docLink);\n",
              "        }\n",
              "      </script>\n",
              "    </div>\n",
              "  </div>\n",
              "  "
            ]
          },
          "metadata": {},
          "execution_count": 7
        }
      ]
    },
    {
      "cell_type": "code",
      "source": [
        "df[['SUBDIVISION','ANNUAL']].groupby('SUBDIVISION').mean().sort_values(by='ANNUAL',ascending=False)"
      ],
      "metadata": {
        "colab": {
          "base_uri": "https://localhost:8080/",
          "height": 1000
        },
        "id": "7vNamNNFQitw",
        "outputId": "0ba7874d-b435-4eb8-8a60-1eaa395cb2d1"
      },
      "execution_count": null,
      "outputs": [
        {
          "output_type": "execute_result",
          "data": {
            "text/plain": [
              "                                         ANNUAL\n",
              "SUBDIVISION                                    \n",
              "Arunachal Pradesh                   3403.959140\n",
              "Coastal Karnataka                   3397.637931\n",
              "Konkan & Goa                        2987.531624\n",
              "Andaman & Nicobar Islands           2926.373585\n",
              "Kerala                              2914.247009\n",
              "Sub Himalayan West Bengal & Sikkim  2750.552991\n",
              "Assam & Meghalaya                   2579.133333\n",
              "Naga Mani Mizo Tripura              2432.717949\n",
              "Lakshadweep                         1587.294286\n",
              "Gangetic West Bengal                1490.612821\n",
              "Uttarakhand                         1464.441880\n",
              "Orissa                              1455.448718\n",
              "Chhattisgarh                        1369.136752\n",
              "Jharkhand                           1307.689744\n",
              "Himachal Pradesh                    1256.781197\n",
              "East Madhya Pradesh                 1203.035043\n",
              "Bihar                               1196.563248\n",
              "Jammu & Kashmir                     1138.842241\n",
              "Vidarbha                            1093.543590\n",
              "Coastal Andhra Pradesh              1050.304274\n",
              "South Interior Karnataka            1037.555556\n",
              "East Uttar Pradesh                   975.864957\n",
              "Telangana                            952.970940\n",
              "West Madhya Pradesh                  944.171552\n",
              "Tamil Nadu                           940.470085\n",
              "Gujarat Region                       917.827350\n",
              "Madhya Maharashtra                   881.431624\n",
              "West Uttar Pradesh                   823.899145\n",
              "Matathwada                           791.745299\n",
              "Rayalseema                           764.988034\n",
              "North Interior Karnataka             717.188889\n",
              "East Rajasthan                       656.501709\n",
              "Punjab                               591.436752\n",
              "Haryana Delhi & Chandigarh           528.439316\n",
              "Saurashtra & Kutch                   496.398291\n",
              "West Rajasthan                       294.125641"
            ],
            "text/html": [
              "\n",
              "  <div id=\"df-c1e42519-b421-4c02-ba2b-46f2bf2d99b8\">\n",
              "    <div class=\"colab-df-container\">\n",
              "      <div>\n",
              "<style scoped>\n",
              "    .dataframe tbody tr th:only-of-type {\n",
              "        vertical-align: middle;\n",
              "    }\n",
              "\n",
              "    .dataframe tbody tr th {\n",
              "        vertical-align: top;\n",
              "    }\n",
              "\n",
              "    .dataframe thead th {\n",
              "        text-align: right;\n",
              "    }\n",
              "</style>\n",
              "<table border=\"1\" class=\"dataframe\">\n",
              "  <thead>\n",
              "    <tr style=\"text-align: right;\">\n",
              "      <th></th>\n",
              "      <th>ANNUAL</th>\n",
              "    </tr>\n",
              "    <tr>\n",
              "      <th>SUBDIVISION</th>\n",
              "      <th></th>\n",
              "    </tr>\n",
              "  </thead>\n",
              "  <tbody>\n",
              "    <tr>\n",
              "      <th>Arunachal Pradesh</th>\n",
              "      <td>3403.959140</td>\n",
              "    </tr>\n",
              "    <tr>\n",
              "      <th>Coastal Karnataka</th>\n",
              "      <td>3397.637931</td>\n",
              "    </tr>\n",
              "    <tr>\n",
              "      <th>Konkan &amp; Goa</th>\n",
              "      <td>2987.531624</td>\n",
              "    </tr>\n",
              "    <tr>\n",
              "      <th>Andaman &amp; Nicobar Islands</th>\n",
              "      <td>2926.373585</td>\n",
              "    </tr>\n",
              "    <tr>\n",
              "      <th>Kerala</th>\n",
              "      <td>2914.247009</td>\n",
              "    </tr>\n",
              "    <tr>\n",
              "      <th>Sub Himalayan West Bengal &amp; Sikkim</th>\n",
              "      <td>2750.552991</td>\n",
              "    </tr>\n",
              "    <tr>\n",
              "      <th>Assam &amp; Meghalaya</th>\n",
              "      <td>2579.133333</td>\n",
              "    </tr>\n",
              "    <tr>\n",
              "      <th>Naga Mani Mizo Tripura</th>\n",
              "      <td>2432.717949</td>\n",
              "    </tr>\n",
              "    <tr>\n",
              "      <th>Lakshadweep</th>\n",
              "      <td>1587.294286</td>\n",
              "    </tr>\n",
              "    <tr>\n",
              "      <th>Gangetic West Bengal</th>\n",
              "      <td>1490.612821</td>\n",
              "    </tr>\n",
              "    <tr>\n",
              "      <th>Uttarakhand</th>\n",
              "      <td>1464.441880</td>\n",
              "    </tr>\n",
              "    <tr>\n",
              "      <th>Orissa</th>\n",
              "      <td>1455.448718</td>\n",
              "    </tr>\n",
              "    <tr>\n",
              "      <th>Chhattisgarh</th>\n",
              "      <td>1369.136752</td>\n",
              "    </tr>\n",
              "    <tr>\n",
              "      <th>Jharkhand</th>\n",
              "      <td>1307.689744</td>\n",
              "    </tr>\n",
              "    <tr>\n",
              "      <th>Himachal Pradesh</th>\n",
              "      <td>1256.781197</td>\n",
              "    </tr>\n",
              "    <tr>\n",
              "      <th>East Madhya Pradesh</th>\n",
              "      <td>1203.035043</td>\n",
              "    </tr>\n",
              "    <tr>\n",
              "      <th>Bihar</th>\n",
              "      <td>1196.563248</td>\n",
              "    </tr>\n",
              "    <tr>\n",
              "      <th>Jammu &amp; Kashmir</th>\n",
              "      <td>1138.842241</td>\n",
              "    </tr>\n",
              "    <tr>\n",
              "      <th>Vidarbha</th>\n",
              "      <td>1093.543590</td>\n",
              "    </tr>\n",
              "    <tr>\n",
              "      <th>Coastal Andhra Pradesh</th>\n",
              "      <td>1050.304274</td>\n",
              "    </tr>\n",
              "    <tr>\n",
              "      <th>South Interior Karnataka</th>\n",
              "      <td>1037.555556</td>\n",
              "    </tr>\n",
              "    <tr>\n",
              "      <th>East Uttar Pradesh</th>\n",
              "      <td>975.864957</td>\n",
              "    </tr>\n",
              "    <tr>\n",
              "      <th>Telangana</th>\n",
              "      <td>952.970940</td>\n",
              "    </tr>\n",
              "    <tr>\n",
              "      <th>West Madhya Pradesh</th>\n",
              "      <td>944.171552</td>\n",
              "    </tr>\n",
              "    <tr>\n",
              "      <th>Tamil Nadu</th>\n",
              "      <td>940.470085</td>\n",
              "    </tr>\n",
              "    <tr>\n",
              "      <th>Gujarat Region</th>\n",
              "      <td>917.827350</td>\n",
              "    </tr>\n",
              "    <tr>\n",
              "      <th>Madhya Maharashtra</th>\n",
              "      <td>881.431624</td>\n",
              "    </tr>\n",
              "    <tr>\n",
              "      <th>West Uttar Pradesh</th>\n",
              "      <td>823.899145</td>\n",
              "    </tr>\n",
              "    <tr>\n",
              "      <th>Matathwada</th>\n",
              "      <td>791.745299</td>\n",
              "    </tr>\n",
              "    <tr>\n",
              "      <th>Rayalseema</th>\n",
              "      <td>764.988034</td>\n",
              "    </tr>\n",
              "    <tr>\n",
              "      <th>North Interior Karnataka</th>\n",
              "      <td>717.188889</td>\n",
              "    </tr>\n",
              "    <tr>\n",
              "      <th>East Rajasthan</th>\n",
              "      <td>656.501709</td>\n",
              "    </tr>\n",
              "    <tr>\n",
              "      <th>Punjab</th>\n",
              "      <td>591.436752</td>\n",
              "    </tr>\n",
              "    <tr>\n",
              "      <th>Haryana Delhi &amp; Chandigarh</th>\n",
              "      <td>528.439316</td>\n",
              "    </tr>\n",
              "    <tr>\n",
              "      <th>Saurashtra &amp; Kutch</th>\n",
              "      <td>496.398291</td>\n",
              "    </tr>\n",
              "    <tr>\n",
              "      <th>West Rajasthan</th>\n",
              "      <td>294.125641</td>\n",
              "    </tr>\n",
              "  </tbody>\n",
              "</table>\n",
              "</div>\n",
              "      <button class=\"colab-df-convert\" onclick=\"convertToInteractive('df-c1e42519-b421-4c02-ba2b-46f2bf2d99b8')\"\n",
              "              title=\"Convert this dataframe to an interactive table.\"\n",
              "              style=\"display:none;\">\n",
              "        \n",
              "  <svg xmlns=\"http://www.w3.org/2000/svg\" height=\"24px\"viewBox=\"0 0 24 24\"\n",
              "       width=\"24px\">\n",
              "    <path d=\"M0 0h24v24H0V0z\" fill=\"none\"/>\n",
              "    <path d=\"M18.56 5.44l.94 2.06.94-2.06 2.06-.94-2.06-.94-.94-2.06-.94 2.06-2.06.94zm-11 1L8.5 8.5l.94-2.06 2.06-.94-2.06-.94L8.5 2.5l-.94 2.06-2.06.94zm10 10l.94 2.06.94-2.06 2.06-.94-2.06-.94-.94-2.06-.94 2.06-2.06.94z\"/><path d=\"M17.41 7.96l-1.37-1.37c-.4-.4-.92-.59-1.43-.59-.52 0-1.04.2-1.43.59L10.3 9.45l-7.72 7.72c-.78.78-.78 2.05 0 2.83L4 21.41c.39.39.9.59 1.41.59.51 0 1.02-.2 1.41-.59l7.78-7.78 2.81-2.81c.8-.78.8-2.07 0-2.86zM5.41 20L4 18.59l7.72-7.72 1.47 1.35L5.41 20z\"/>\n",
              "  </svg>\n",
              "      </button>\n",
              "      \n",
              "  <style>\n",
              "    .colab-df-container {\n",
              "      display:flex;\n",
              "      flex-wrap:wrap;\n",
              "      gap: 12px;\n",
              "    }\n",
              "\n",
              "    .colab-df-convert {\n",
              "      background-color: #E8F0FE;\n",
              "      border: none;\n",
              "      border-radius: 50%;\n",
              "      cursor: pointer;\n",
              "      display: none;\n",
              "      fill: #1967D2;\n",
              "      height: 32px;\n",
              "      padding: 0 0 0 0;\n",
              "      width: 32px;\n",
              "    }\n",
              "\n",
              "    .colab-df-convert:hover {\n",
              "      background-color: #E2EBFA;\n",
              "      box-shadow: 0px 1px 2px rgba(60, 64, 67, 0.3), 0px 1px 3px 1px rgba(60, 64, 67, 0.15);\n",
              "      fill: #174EA6;\n",
              "    }\n",
              "\n",
              "    [theme=dark] .colab-df-convert {\n",
              "      background-color: #3B4455;\n",
              "      fill: #D2E3FC;\n",
              "    }\n",
              "\n",
              "    [theme=dark] .colab-df-convert:hover {\n",
              "      background-color: #434B5C;\n",
              "      box-shadow: 0px 1px 3px 1px rgba(0, 0, 0, 0.15);\n",
              "      filter: drop-shadow(0px 1px 2px rgba(0, 0, 0, 0.3));\n",
              "      fill: #FFFFFF;\n",
              "    }\n",
              "  </style>\n",
              "\n",
              "      <script>\n",
              "        const buttonEl =\n",
              "          document.querySelector('#df-c1e42519-b421-4c02-ba2b-46f2bf2d99b8 button.colab-df-convert');\n",
              "        buttonEl.style.display =\n",
              "          google.colab.kernel.accessAllowed ? 'block' : 'none';\n",
              "\n",
              "        async function convertToInteractive(key) {\n",
              "          const element = document.querySelector('#df-c1e42519-b421-4c02-ba2b-46f2bf2d99b8');\n",
              "          const dataTable =\n",
              "            await google.colab.kernel.invokeFunction('convertToInteractive',\n",
              "                                                     [key], {});\n",
              "          if (!dataTable) return;\n",
              "\n",
              "          const docLinkHtml = 'Like what you see? Visit the ' +\n",
              "            '<a target=\"_blank\" href=https://colab.research.google.com/notebooks/data_table.ipynb>data table notebook</a>'\n",
              "            + ' to learn more about interactive tables.';\n",
              "          element.innerHTML = '';\n",
              "          dataTable['output_type'] = 'display_data';\n",
              "          await google.colab.output.renderOutput(dataTable, element);\n",
              "          const docLink = document.createElement('div');\n",
              "          docLink.innerHTML = docLinkHtml;\n",
              "          element.appendChild(docLink);\n",
              "        }\n",
              "      </script>\n",
              "    </div>\n",
              "  </div>\n",
              "  "
            ]
          },
          "metadata": {},
          "execution_count": 8
        }
      ]
    },
    {
      "cell_type": "code",
      "source": [
        "df['SUBDIVISION'].value_counts()"
      ],
      "metadata": {
        "colab": {
          "base_uri": "https://localhost:8080/"
        },
        "id": "g01ZzZktDFYX",
        "outputId": "c53b956e-8bdc-4074-a794-127dc36820c0"
      },
      "execution_count": null,
      "outputs": [
        {
          "output_type": "execute_result",
          "data": {
            "text/plain": [
              "West Madhya Pradesh                   117\n",
              "East Rajasthan                        117\n",
              "Coastal Karnataka                     117\n",
              "Tamil Nadu                            117\n",
              "Rayalseema                            117\n",
              "Telangana                             117\n",
              "Coastal Andhra Pradesh                117\n",
              "Chhattisgarh                          117\n",
              "Vidarbha                              117\n",
              "Matathwada                            117\n",
              "Madhya Maharashtra                    117\n",
              "Konkan & Goa                          117\n",
              "Saurashtra & Kutch                    117\n",
              "Gujarat Region                        117\n",
              "East Madhya Pradesh                   117\n",
              "Kerala                                117\n",
              "West Rajasthan                        117\n",
              "South Interior Karnataka              117\n",
              "Jammu & Kashmir                       117\n",
              "Himachal Pradesh                      117\n",
              "Punjab                                117\n",
              "Haryana Delhi & Chandigarh            117\n",
              "Uttarakhand                           117\n",
              "West Uttar Pradesh                    117\n",
              "East Uttar Pradesh                    117\n",
              "Bihar                                 117\n",
              "Jharkhand                             117\n",
              "Orissa                                117\n",
              "Gangetic West Bengal                  117\n",
              "Sub Himalayan West Bengal & Sikkim    117\n",
              "Naga Mani Mizo Tripura                117\n",
              "Assam & Meghalaya                     117\n",
              "North Interior Karnataka              117\n",
              "Lakshadweep                           116\n",
              "Andaman & Nicobar Islands             112\n",
              "Arunachal Pradesh                      99\n",
              "Name: SUBDIVISION, dtype: int64"
            ]
          },
          "metadata": {},
          "execution_count": 11
        }
      ]
    },
    {
      "cell_type": "code",
      "source": [
        "df_up =df[df.SUBDIVISION == 'West Uttar Pradesh']\n",
        "df_up.head()"
      ],
      "metadata": {
        "colab": {
          "base_uri": "https://localhost:8080/",
          "height": 357
        },
        "id": "hHNAFlkpDFqx",
        "outputId": "eb24f0d0-9107-4642-9e63-ff50a81772cc"
      },
      "execution_count": null,
      "outputs": [
        {
          "output_type": "execute_result",
          "data": {
            "text/plain": [
              "             SUBDIVISION  YEAR   JAN   FEB   MAR  APR   MAY   JUN    JUL  \\\n",
              "1147  West Uttar Pradesh  1901  51.4  25.6   9.5  0.7   5.6  23.8  201.9   \n",
              "1148  West Uttar Pradesh  1902   4.6   4.6   0.6  4.8   7.2  54.5  325.9   \n",
              "1149  West Uttar Pradesh  1903  13.4   0.4   1.2  0.0   8.2  32.7  145.4   \n",
              "1150  West Uttar Pradesh  1904   6.3   2.0  29.7  0.4  24.8  68.5  358.8   \n",
              "1151  West Uttar Pradesh  1905  32.3  26.6  14.8  3.6   7.1  18.9  139.8   \n",
              "\n",
              "        AUG    SEP    OCT   NOV   DEC  ANNUAL    JF   MAM   JJAS    OND  \n",
              "1147  374.3   67.7    7.6   0.0   7.9   775.9  76.9  15.8  667.7   15.4  \n",
              "1148  180.6  143.1    9.6   0.9   0.2   736.6   9.2  12.7  704.1   10.6  \n",
              "1149  279.1  150.4  177.3   0.0   0.4   808.4  13.7   9.4  607.6  177.6  \n",
              "1150  311.1   97.1    2.7  15.7  28.2   945.2   8.2  54.9  835.5   46.6  \n",
              "1151   95.0   92.2    0.2   0.0   2.9   433.5  59.0  25.5  345.9    3.1  "
            ],
            "text/html": [
              "\n",
              "  <div id=\"df-8a26aaad-9b4f-4c14-b4f8-5b045a38a172\">\n",
              "    <div class=\"colab-df-container\">\n",
              "      <div>\n",
              "<style scoped>\n",
              "    .dataframe tbody tr th:only-of-type {\n",
              "        vertical-align: middle;\n",
              "    }\n",
              "\n",
              "    .dataframe tbody tr th {\n",
              "        vertical-align: top;\n",
              "    }\n",
              "\n",
              "    .dataframe thead th {\n",
              "        text-align: right;\n",
              "    }\n",
              "</style>\n",
              "<table border=\"1\" class=\"dataframe\">\n",
              "  <thead>\n",
              "    <tr style=\"text-align: right;\">\n",
              "      <th></th>\n",
              "      <th>SUBDIVISION</th>\n",
              "      <th>YEAR</th>\n",
              "      <th>JAN</th>\n",
              "      <th>FEB</th>\n",
              "      <th>MAR</th>\n",
              "      <th>APR</th>\n",
              "      <th>MAY</th>\n",
              "      <th>JUN</th>\n",
              "      <th>JUL</th>\n",
              "      <th>AUG</th>\n",
              "      <th>SEP</th>\n",
              "      <th>OCT</th>\n",
              "      <th>NOV</th>\n",
              "      <th>DEC</th>\n",
              "      <th>ANNUAL</th>\n",
              "      <th>JF</th>\n",
              "      <th>MAM</th>\n",
              "      <th>JJAS</th>\n",
              "      <th>OND</th>\n",
              "    </tr>\n",
              "  </thead>\n",
              "  <tbody>\n",
              "    <tr>\n",
              "      <th>1147</th>\n",
              "      <td>West Uttar Pradesh</td>\n",
              "      <td>1901</td>\n",
              "      <td>51.4</td>\n",
              "      <td>25.6</td>\n",
              "      <td>9.5</td>\n",
              "      <td>0.7</td>\n",
              "      <td>5.6</td>\n",
              "      <td>23.8</td>\n",
              "      <td>201.9</td>\n",
              "      <td>374.3</td>\n",
              "      <td>67.7</td>\n",
              "      <td>7.6</td>\n",
              "      <td>0.0</td>\n",
              "      <td>7.9</td>\n",
              "      <td>775.9</td>\n",
              "      <td>76.9</td>\n",
              "      <td>15.8</td>\n",
              "      <td>667.7</td>\n",
              "      <td>15.4</td>\n",
              "    </tr>\n",
              "    <tr>\n",
              "      <th>1148</th>\n",
              "      <td>West Uttar Pradesh</td>\n",
              "      <td>1902</td>\n",
              "      <td>4.6</td>\n",
              "      <td>4.6</td>\n",
              "      <td>0.6</td>\n",
              "      <td>4.8</td>\n",
              "      <td>7.2</td>\n",
              "      <td>54.5</td>\n",
              "      <td>325.9</td>\n",
              "      <td>180.6</td>\n",
              "      <td>143.1</td>\n",
              "      <td>9.6</td>\n",
              "      <td>0.9</td>\n",
              "      <td>0.2</td>\n",
              "      <td>736.6</td>\n",
              "      <td>9.2</td>\n",
              "      <td>12.7</td>\n",
              "      <td>704.1</td>\n",
              "      <td>10.6</td>\n",
              "    </tr>\n",
              "    <tr>\n",
              "      <th>1149</th>\n",
              "      <td>West Uttar Pradesh</td>\n",
              "      <td>1903</td>\n",
              "      <td>13.4</td>\n",
              "      <td>0.4</td>\n",
              "      <td>1.2</td>\n",
              "      <td>0.0</td>\n",
              "      <td>8.2</td>\n",
              "      <td>32.7</td>\n",
              "      <td>145.4</td>\n",
              "      <td>279.1</td>\n",
              "      <td>150.4</td>\n",
              "      <td>177.3</td>\n",
              "      <td>0.0</td>\n",
              "      <td>0.4</td>\n",
              "      <td>808.4</td>\n",
              "      <td>13.7</td>\n",
              "      <td>9.4</td>\n",
              "      <td>607.6</td>\n",
              "      <td>177.6</td>\n",
              "    </tr>\n",
              "    <tr>\n",
              "      <th>1150</th>\n",
              "      <td>West Uttar Pradesh</td>\n",
              "      <td>1904</td>\n",
              "      <td>6.3</td>\n",
              "      <td>2.0</td>\n",
              "      <td>29.7</td>\n",
              "      <td>0.4</td>\n",
              "      <td>24.8</td>\n",
              "      <td>68.5</td>\n",
              "      <td>358.8</td>\n",
              "      <td>311.1</td>\n",
              "      <td>97.1</td>\n",
              "      <td>2.7</td>\n",
              "      <td>15.7</td>\n",
              "      <td>28.2</td>\n",
              "      <td>945.2</td>\n",
              "      <td>8.2</td>\n",
              "      <td>54.9</td>\n",
              "      <td>835.5</td>\n",
              "      <td>46.6</td>\n",
              "    </tr>\n",
              "    <tr>\n",
              "      <th>1151</th>\n",
              "      <td>West Uttar Pradesh</td>\n",
              "      <td>1905</td>\n",
              "      <td>32.3</td>\n",
              "      <td>26.6</td>\n",
              "      <td>14.8</td>\n",
              "      <td>3.6</td>\n",
              "      <td>7.1</td>\n",
              "      <td>18.9</td>\n",
              "      <td>139.8</td>\n",
              "      <td>95.0</td>\n",
              "      <td>92.2</td>\n",
              "      <td>0.2</td>\n",
              "      <td>0.0</td>\n",
              "      <td>2.9</td>\n",
              "      <td>433.5</td>\n",
              "      <td>59.0</td>\n",
              "      <td>25.5</td>\n",
              "      <td>345.9</td>\n",
              "      <td>3.1</td>\n",
              "    </tr>\n",
              "  </tbody>\n",
              "</table>\n",
              "</div>\n",
              "      <button class=\"colab-df-convert\" onclick=\"convertToInteractive('df-8a26aaad-9b4f-4c14-b4f8-5b045a38a172')\"\n",
              "              title=\"Convert this dataframe to an interactive table.\"\n",
              "              style=\"display:none;\">\n",
              "        \n",
              "  <svg xmlns=\"http://www.w3.org/2000/svg\" height=\"24px\"viewBox=\"0 0 24 24\"\n",
              "       width=\"24px\">\n",
              "    <path d=\"M0 0h24v24H0V0z\" fill=\"none\"/>\n",
              "    <path d=\"M18.56 5.44l.94 2.06.94-2.06 2.06-.94-2.06-.94-.94-2.06-.94 2.06-2.06.94zm-11 1L8.5 8.5l.94-2.06 2.06-.94-2.06-.94L8.5 2.5l-.94 2.06-2.06.94zm10 10l.94 2.06.94-2.06 2.06-.94-2.06-.94-.94-2.06-.94 2.06-2.06.94z\"/><path d=\"M17.41 7.96l-1.37-1.37c-.4-.4-.92-.59-1.43-.59-.52 0-1.04.2-1.43.59L10.3 9.45l-7.72 7.72c-.78.78-.78 2.05 0 2.83L4 21.41c.39.39.9.59 1.41.59.51 0 1.02-.2 1.41-.59l7.78-7.78 2.81-2.81c.8-.78.8-2.07 0-2.86zM5.41 20L4 18.59l7.72-7.72 1.47 1.35L5.41 20z\"/>\n",
              "  </svg>\n",
              "      </button>\n",
              "      \n",
              "  <style>\n",
              "    .colab-df-container {\n",
              "      display:flex;\n",
              "      flex-wrap:wrap;\n",
              "      gap: 12px;\n",
              "    }\n",
              "\n",
              "    .colab-df-convert {\n",
              "      background-color: #E8F0FE;\n",
              "      border: none;\n",
              "      border-radius: 50%;\n",
              "      cursor: pointer;\n",
              "      display: none;\n",
              "      fill: #1967D2;\n",
              "      height: 32px;\n",
              "      padding: 0 0 0 0;\n",
              "      width: 32px;\n",
              "    }\n",
              "\n",
              "    .colab-df-convert:hover {\n",
              "      background-color: #E2EBFA;\n",
              "      box-shadow: 0px 1px 2px rgba(60, 64, 67, 0.3), 0px 1px 3px 1px rgba(60, 64, 67, 0.15);\n",
              "      fill: #174EA6;\n",
              "    }\n",
              "\n",
              "    [theme=dark] .colab-df-convert {\n",
              "      background-color: #3B4455;\n",
              "      fill: #D2E3FC;\n",
              "    }\n",
              "\n",
              "    [theme=dark] .colab-df-convert:hover {\n",
              "      background-color: #434B5C;\n",
              "      box-shadow: 0px 1px 3px 1px rgba(0, 0, 0, 0.15);\n",
              "      filter: drop-shadow(0px 1px 2px rgba(0, 0, 0, 0.3));\n",
              "      fill: #FFFFFF;\n",
              "    }\n",
              "  </style>\n",
              "\n",
              "      <script>\n",
              "        const buttonEl =\n",
              "          document.querySelector('#df-8a26aaad-9b4f-4c14-b4f8-5b045a38a172 button.colab-df-convert');\n",
              "        buttonEl.style.display =\n",
              "          google.colab.kernel.accessAllowed ? 'block' : 'none';\n",
              "\n",
              "        async function convertToInteractive(key) {\n",
              "          const element = document.querySelector('#df-8a26aaad-9b4f-4c14-b4f8-5b045a38a172');\n",
              "          const dataTable =\n",
              "            await google.colab.kernel.invokeFunction('convertToInteractive',\n",
              "                                                     [key], {});\n",
              "          if (!dataTable) return;\n",
              "\n",
              "          const docLinkHtml = 'Like what you see? Visit the ' +\n",
              "            '<a target=\"_blank\" href=https://colab.research.google.com/notebooks/data_table.ipynb>data table notebook</a>'\n",
              "            + ' to learn more about interactive tables.';\n",
              "          element.innerHTML = '';\n",
              "          dataTable['output_type'] = 'display_data';\n",
              "          await google.colab.output.renderOutput(dataTable, element);\n",
              "          const docLink = document.createElement('div');\n",
              "          docLink.innerHTML = docLinkHtml;\n",
              "          element.appendChild(docLink);\n",
              "        }\n",
              "      </script>\n",
              "    </div>\n",
              "  </div>\n",
              "  "
            ]
          },
          "metadata": {},
          "execution_count": 14
        }
      ]
    },
    {
      "cell_type": "code",
      "source": [
        "df_up.plot()"
      ],
      "metadata": {
        "colab": {
          "base_uri": "https://localhost:8080/",
          "height": 326
        },
        "id": "xRGdUvfPDVb7",
        "outputId": "3aceaafa-eb77-451a-b7b6-66f959b5e42e"
      },
      "execution_count": null,
      "outputs": [
        {
          "output_type": "execute_result",
          "data": {
            "text/plain": [
              "<matplotlib.axes._subplots.AxesSubplot at 0x7f91aed2ea10>"
            ]
          },
          "metadata": {},
          "execution_count": 15
        },
        {
          "output_type": "display_data",
          "data": {
            "text/plain": [
              "<Figure size 432x288 with 1 Axes>"
            ],
            "image/png": "[encoded data removed]"
          },
          "metadata": {
            "needs_background": "light"
          }
        }
      ]
    },
    {
      "cell_type": "code",
      "source": [
        "sor = df_up.sort_values('ANNUAL')\n"
      ],
      "metadata": {
        "id": "S1q70KMqDjqx"
      },
      "execution_count": null,
      "outputs": []
    },
    {
      "cell_type": "code",
      "source": [
        "sor.head()"
      ],
      "metadata": {
        "colab": {
          "base_uri": "https://localhost:8080/",
          "height": 357
        },
        "id": "6QBb2EwHD3YK",
        "outputId": "45c94f92-a8ea-4c61-e6c9-731506a4d8d7"
      },
      "execution_count": null,
      "outputs": [
        {
          "output_type": "execute_result",
          "data": {
            "text/plain": [
              "             SUBDIVISION  YEAR   JAN   FEB   MAR   APR   MAY   JUN    JUL  \\\n",
              "1164  West Uttar Pradesh  1918   7.2   0.7  10.9   4.9   5.5  83.6   72.9   \n",
              "1258  West Uttar Pradesh  2012  14.5   0.1   1.4   4.7   0.3   4.0  145.1   \n",
              "1151  West Uttar Pradesh  1905  32.3  26.6  14.8   3.6   7.1  18.9  139.8   \n",
              "1243  West Uttar Pradesh  1997   3.8   0.7   2.4  19.2  22.8  79.9  235.7   \n",
              "1233  West Uttar Pradesh  1987  15.2  13.1   2.7   1.8  39.8  34.6  105.0   \n",
              "\n",
              "        AUG   SEP   OCT  NOV   DEC  ANNUAL    JF   MAM   JJAS   OND  \n",
              "1164  161.0  20.3   0.2  4.1   0.6   371.9   7.9  21.4  337.8   4.8  \n",
              "1258  149.1  67.8   0.5  0.1   2.0   389.6  14.5   6.4  366.0   2.7  \n",
              "1151   95.0  92.2   0.2  0.0   2.9   433.5  59.0  25.5  345.9   3.1  \n",
              "1243   34.6  24.0   7.5  3.2  11.4   445.2   4.5  44.3  374.2  22.1  \n",
              "1233  124.2  92.4  30.8  0.0   7.3   466.8  28.4  44.2  356.1  38.1  "
            ],
            "text/html": [
              "\n",
              "  <div id=\"df-ae9b8b9c-894c-4cc6-bbed-603c73f0e0ac\">\n",
              "    <div class=\"colab-df-container\">\n",
              "      <div>\n",
              "<style scoped>\n",
              "    .dataframe tbody tr th:only-of-type {\n",
              "        vertical-align: middle;\n",
              "    }\n",
              "\n",
              "    .dataframe tbody tr th {\n",
              "        vertical-align: top;\n",
              "    }\n",
              "\n",
              "    .dataframe thead th {\n",
              "        text-align: right;\n",
              "    }\n",
              "</style>\n",
              "<table border=\"1\" class=\"dataframe\">\n",
              "  <thead>\n",
              "    <tr style=\"text-align: right;\">\n",
              "      <th></th>\n",
              "      <th>SUBDIVISION</th>\n",
              "      <th>YEAR</th>\n",
              "      <th>JAN</th>\n",
              "      <th>FEB</th>\n",
              "      <th>MAR</th>\n",
              "      <th>APR</th>\n",
              "      <th>MAY</th>\n",
              "      <th>JUN</th>\n",
              "      <th>JUL</th>\n",
              "      <th>AUG</th>\n",
              "      <th>SEP</th>\n",
              "      <th>OCT</th>\n",
              "      <th>NOV</th>\n",
              "      <th>DEC</th>\n",
              "      <th>ANNUAL</th>\n",
              "      <th>JF</th>\n",
              "      <th>MAM</th>\n",
              "      <th>JJAS</th>\n",
              "      <th>OND</th>\n",
              "    </tr>\n",
              "  </thead>\n",
              "  <tbody>\n",
              "    <tr>\n",
              "      <th>1164</th>\n",
              "      <td>West Uttar Pradesh</td>\n",
              "      <td>1918</td>\n",
              "      <td>7.2</td>\n",
              "      <td>0.7</td>\n",
              "      <td>10.9</td>\n",
              "      <td>4.9</td>\n",
              "      <td>5.5</td>\n",
              "      <td>83.6</td>\n",
              "      <td>72.9</td>\n",
              "      <td>161.0</td>\n",
              "      <td>20.3</td>\n",
              "      <td>0.2</td>\n",
              "      <td>4.1</td>\n",
              "      <td>0.6</td>\n",
              "      <td>371.9</td>\n",
              "      <td>7.9</td>\n",
              "      <td>21.4</td>\n",
              "      <td>337.8</td>\n",
              "      <td>4.8</td>\n",
              "    </tr>\n",
              "    <tr>\n",
              "      <th>1258</th>\n",
              "      <td>West Uttar Pradesh</td>\n",
              "      <td>2012</td>\n",
              "      <td>14.5</td>\n",
              "      <td>0.1</td>\n",
              "      <td>1.4</td>\n",
              "      <td>4.7</td>\n",
              "      <td>0.3</td>\n",
              "      <td>4.0</td>\n",
              "      <td>145.1</td>\n",
              "      <td>149.1</td>\n",
              "      <td>67.8</td>\n",
              "      <td>0.5</td>\n",
              "      <td>0.1</td>\n",
              "      <td>2.0</td>\n",
              "      <td>389.6</td>\n",
              "      <td>14.5</td>\n",
              "      <td>6.4</td>\n",
              "      <td>366.0</td>\n",
              "      <td>2.7</td>\n",
              "    </tr>\n",
              "    <tr>\n",
              "      <th>1151</th>\n",
              "      <td>West Uttar Pradesh</td>\n",
              "      <td>1905</td>\n",
              "      <td>32.3</td>\n",
              "      <td>26.6</td>\n",
              "      <td>14.8</td>\n",
              "      <td>3.6</td>\n",
              "      <td>7.1</td>\n",
              "      <td>18.9</td>\n",
              "      <td>139.8</td>\n",
              "      <td>95.0</td>\n",
              "      <td>92.2</td>\n",
              "      <td>0.2</td>\n",
              "      <td>0.0</td>\n",
              "      <td>2.9</td>\n",
              "      <td>433.5</td>\n",
              "      <td>59.0</td>\n",
              "      <td>25.5</td>\n",
              "      <td>345.9</td>\n",
              "      <td>3.1</td>\n",
              "    </tr>\n",
              "    <tr>\n",
              "      <th>1243</th>\n",
              "      <td>West Uttar Pradesh</td>\n",
              "      <td>1997</td>\n",
              "      <td>3.8</td>\n",
              "      <td>0.7</td>\n",
              "      <td>2.4</td>\n",
              "      <td>19.2</td>\n",
              "      <td>22.8</td>\n",
              "      <td>79.9</td>\n",
              "      <td>235.7</td>\n",
              "      <td>34.6</td>\n",
              "      <td>24.0</td>\n",
              "      <td>7.5</td>\n",
              "      <td>3.2</td>\n",
              "      <td>11.4</td>\n",
              "      <td>445.2</td>\n",
              "      <td>4.5</td>\n",
              "      <td>44.3</td>\n",
              "      <td>374.2</td>\n",
              "      <td>22.1</td>\n",
              "    </tr>\n",
              "    <tr>\n",
              "      <th>1233</th>\n",
              "      <td>West Uttar Pradesh</td>\n",
              "      <td>1987</td>\n",
              "      <td>15.2</td>\n",
              "      <td>13.1</td>\n",
              "      <td>2.7</td>\n",
              "      <td>1.8</td>\n",
              "      <td>39.8</td>\n",
              "      <td>34.6</td>\n",
              "      <td>105.0</td>\n",
              "      <td>124.2</td>\n",
              "      <td>92.4</td>\n",
              "      <td>30.8</td>\n",
              "      <td>0.0</td>\n",
              "      <td>7.3</td>\n",
              "      <td>466.8</td>\n",
              "      <td>28.4</td>\n",
              "      <td>44.2</td>\n",
              "      <td>356.1</td>\n",
              "      <td>38.1</td>\n",
              "    </tr>\n",
              "  </tbody>\n",
              "</table>\n",
              "</div>\n",
              "      <button class=\"colab-df-convert\" onclick=\"convertToInteractive('df-ae9b8b9c-894c-4cc6-bbed-603c73f0e0ac')\"\n",
              "              title=\"Convert this dataframe to an interactive table.\"\n",
              "              style=\"display:none;\">\n",
              "        \n",
              "  <svg xmlns=\"http://www.w3.org/2000/svg\" height=\"24px\"viewBox=\"0 0 24 24\"\n",
              "       width=\"24px\">\n",
              "    <path d=\"M0 0h24v24H0V0z\" fill=\"none\"/>\n",
              "    <path d=\"M18.56 5.44l.94 2.06.94-2.06 2.06-.94-2.06-.94-.94-2.06-.94 2.06-2.06.94zm-11 1L8.5 8.5l.94-2.06 2.06-.94-2.06-.94L8.5 2.5l-.94 2.06-2.06.94zm10 10l.94 2.06.94-2.06 2.06-.94-2.06-.94-.94-2.06-.94 2.06-2.06.94z\"/><path d=\"M17.41 7.96l-1.37-1.37c-.4-.4-.92-.59-1.43-.59-.52 0-1.04.2-1.43.59L10.3 9.45l-7.72 7.72c-.78.78-.78 2.05 0 2.83L4 21.41c.39.39.9.59 1.41.59.51 0 1.02-.2 1.41-.59l7.78-7.78 2.81-2.81c.8-.78.8-2.07 0-2.86zM5.41 20L4 18.59l7.72-7.72 1.47 1.35L5.41 20z\"/>\n",
              "  </svg>\n",
              "      </button>\n",
              "      \n",
              "  <style>\n",
              "    .colab-df-container {\n",
              "      display:flex;\n",
              "      flex-wrap:wrap;\n",
              "      gap: 12px;\n",
              "    }\n",
              "\n",
              "    .colab-df-convert {\n",
              "      background-color: #E8F0FE;\n",
              "      border: none;\n",
              "      border-radius: 50%;\n",
              "      cursor: pointer;\n",
              "      display: none;\n",
              "      fill: #1967D2;\n",
              "      height: 32px;\n",
              "      padding: 0 0 0 0;\n",
              "      width: 32px;\n",
              "    }\n",
              "\n",
              "    .colab-df-convert:hover {\n",
              "      background-color: #E2EBFA;\n",
              "      box-shadow: 0px 1px 2px rgba(60, 64, 67, 0.3), 0px 1px 3px 1px rgba(60, 64, 67, 0.15);\n",
              "      fill: #174EA6;\n",
              "    }\n",
              "\n",
              "    [theme=dark] .colab-df-convert {\n",
              "      background-color: #3B4455;\n",
              "      fill: #D2E3FC;\n",
              "    }\n",
              "\n",
              "    [theme=dark] .colab-df-convert:hover {\n",
              "      background-color: #434B5C;\n",
              "      box-shadow: 0px 1px 3px 1px rgba(0, 0, 0, 0.15);\n",
              "      filter: drop-shadow(0px 1px 2px rgba(0, 0, 0, 0.3));\n",
              "      fill: #FFFFFF;\n",
              "    }\n",
              "  </style>\n",
              "\n",
              "      <script>\n",
              "        const buttonEl =\n",
              "          document.querySelector('#df-ae9b8b9c-894c-4cc6-bbed-603c73f0e0ac button.colab-df-convert');\n",
              "        buttonEl.style.display =\n",
              "          google.colab.kernel.accessAllowed ? 'block' : 'none';\n",
              "\n",
              "        async function convertToInteractive(key) {\n",
              "          const element = document.querySelector('#df-ae9b8b9c-894c-4cc6-bbed-603c73f0e0ac');\n",
              "          const dataTable =\n",
              "            await google.colab.kernel.invokeFunction('convertToInteractive',\n",
              "                                                     [key], {});\n",
              "          if (!dataTable) return;\n",
              "\n",
              "          const docLinkHtml = 'Like what you see? Visit the ' +\n",
              "            '<a target=\"_blank\" href=https://colab.research.google.com/notebooks/data_table.ipynb>data table notebook</a>'\n",
              "            + ' to learn more about interactive tables.';\n",
              "          element.innerHTML = '';\n",
              "          dataTable['output_type'] = 'display_data';\n",
              "          await google.colab.output.renderOutput(dataTable, element);\n",
              "          const docLink = document.createElement('div');\n",
              "          docLink.innerHTML = docLinkHtml;\n",
              "          element.appendChild(docLink);\n",
              "        }\n",
              "      </script>\n",
              "    </div>\n",
              "  </div>\n",
              "  "
            ]
          },
          "metadata": {},
          "execution_count": 18
        }
      ]
    },
    {
      "cell_type": "markdown",
      "source": [
        "**20 District with less rainfall anually**"
      ],
      "metadata": {
        "id": "896jF18bEAQn"
      }
    },
    {
      "cell_type": "code",
      "source": [
        "sor.head(20).plot(x = 'SUBDIVISION',y= 'ANNUAL' )"
      ],
      "metadata": {
        "colab": {
          "base_uri": "https://localhost:8080/",
          "height": 296
        },
        "id": "wsvcInzkEJZF",
        "outputId": "f5731a13-9308-4a66-df5a-23856258255a"
      },
      "execution_count": null,
      "outputs": [
        {
          "output_type": "execute_result",
          "data": {
            "text/plain": [
              "<matplotlib.axes._subplots.AxesSubplot at 0x7f91b043fbd0>"
            ]
          },
          "metadata": {},
          "execution_count": 21
        },
        {
          "output_type": "display_data",
          "data": {
            "text/plain": [
              "<Figure size 432x288 with 1 Axes>"
            ],
            "image/png": "[encoded data removed]"
          },
          "metadata": {
            "needs_background": "light"
          }
        }
      ]
    },
    {
      "cell_type": "code",
      "source": [
        "df_so_ana = df.sort_values('ANNUAL')\n",
        "df_so_ana.head()"
      ],
      "metadata": {
        "colab": {
          "base_uri": "https://localhost:8080/",
          "height": 357
        },
        "id": "-QCdAUd6EMaX",
        "outputId": "1c395b55-5146-4789-835b-5cddca5554fa"
      },
      "execution_count": null,
      "outputs": [
        {
          "output_type": "execute_result",
          "data": {
            "text/plain": [
              "             SUBDIVISION  YEAR  JAN  FEB  MAR  APR   MAY   JUN   JUL   AUG  \\\n",
              "1866      West Rajasthan  1918  0.4  0.0  2.7  0.5   0.7   5.6   5.1  40.8   \n",
              "1950      West Rajasthan  2002  0.3  2.6  1.0  1.4  11.2  26.9   2.4  17.2   \n",
              "2520  Saurashtra & Kutch  1987  0.0  0.0  0.4  0.0   0.1  31.4  18.4  33.5   \n",
              "1853      West Rajasthan  1905  6.3  4.8  0.7  1.3   0.3   4.9  30.1   0.6   \n",
              "2451  Saurashtra & Kutch  1918  0.0  0.0  0.6  0.6   3.8   9.9  45.0  49.0   \n",
              "\n",
              "       SEP  OCT  NOV  DEC  ANNUAL    JF   MAM   JJAS  OND  \n",
              "1866   5.9  0.2  0.2  0.1    62.3   0.4   4.0   57.4  0.5  \n",
              "1950  20.6  0.1  2.5  6.0    92.4   3.0  13.7   67.2  8.6  \n",
              "2520   2.1  0.1  3.2  3.3    92.7   0.0   0.5   85.5  6.6  \n",
              "1853  64.5  0.0  0.0  0.9   114.4  11.0   2.4  100.1  0.9  \n",
              "2451   8.6  0.2  0.0  0.0   117.6   0.0   5.0  112.4  0.2  "
            ],
            "text/html": [
              "\n",
              "  <div id=\"df-15e70e69-39c3-4fd5-9c96-977340cb23d0\">\n",
              "    <div class=\"colab-df-container\">\n",
              "      <div>\n",
              "<style scoped>\n",
              "    .dataframe tbody tr th:only-of-type {\n",
              "        vertical-align: middle;\n",
              "    }\n",
              "\n",
              "    .dataframe tbody tr th {\n",
              "        vertical-align: top;\n",
              "    }\n",
              "\n",
              "    .dataframe thead th {\n",
              "        text-align: right;\n",
              "    }\n",
              "</style>\n",
              "<table border=\"1\" class=\"dataframe\">\n",
              "  <thead>\n",
              "    <tr style=\"text-align: right;\">\n",
              "      <th></th>\n",
              "      <th>SUBDIVISION</th>\n",
              "      <th>YEAR</th>\n",
              "      <th>JAN</th>\n",
              "      <th>FEB</th>\n",
              "      <th>MAR</th>\n",
              "      <th>APR</th>\n",
              "      <th>MAY</th>\n",
              "      <th>JUN</th>\n",
              "      <th>JUL</th>\n",
              "      <th>AUG</th>\n",
              "      <th>SEP</th>\n",
              "      <th>OCT</th>\n",
              "      <th>NOV</th>\n",
              "      <th>DEC</th>\n",
              "      <th>ANNUAL</th>\n",
              "      <th>JF</th>\n",
              "      <th>MAM</th>\n",
              "      <th>JJAS</th>\n",
              "      <th>OND</th>\n",
              "    </tr>\n",
              "  </thead>\n",
              "  <tbody>\n",
              "    <tr>\n",
              "      <th>1866</th>\n",
              "      <td>West Rajasthan</td>\n",
              "      <td>1918</td>\n",
              "      <td>0.4</td>\n",
              "      <td>0.0</td>\n",
              "      <td>2.7</td>\n",
              "      <td>0.5</td>\n",
              "      <td>0.7</td>\n",
              "      <td>5.6</td>\n",
              "      <td>5.1</td>\n",
              "      <td>40.8</td>\n",
              "      <td>5.9</td>\n",
              "      <td>0.2</td>\n",
              "      <td>0.2</td>\n",
              "      <td>0.1</td>\n",
              "      <td>62.3</td>\n",
              "      <td>0.4</td>\n",
              "      <td>4.0</td>\n",
              "      <td>57.4</td>\n",
              "      <td>0.5</td>\n",
              "    </tr>\n",
              "    <tr>\n",
              "      <th>1950</th>\n",
              "      <td>West Rajasthan</td>\n",
              "      <td>2002</td>\n",
              "      <td>0.3</td>\n",
              "      <td>2.6</td>\n",
              "      <td>1.0</td>\n",
              "      <td>1.4</td>\n",
              "      <td>11.2</td>\n",
              "      <td>26.9</td>\n",
              "      <td>2.4</td>\n",
              "      <td>17.2</td>\n",
              "      <td>20.6</td>\n",
              "      <td>0.1</td>\n",
              "      <td>2.5</td>\n",
              "      <td>6.0</td>\n",
              "      <td>92.4</td>\n",
              "      <td>3.0</td>\n",
              "      <td>13.7</td>\n",
              "      <td>67.2</td>\n",
              "      <td>8.6</td>\n",
              "    </tr>\n",
              "    <tr>\n",
              "      <th>2520</th>\n",
              "      <td>Saurashtra &amp; Kutch</td>\n",
              "      <td>1987</td>\n",
              "      <td>0.0</td>\n",
              "      <td>0.0</td>\n",
              "      <td>0.4</td>\n",
              "      <td>0.0</td>\n",
              "      <td>0.1</td>\n",
              "      <td>31.4</td>\n",
              "      <td>18.4</td>\n",
              "      <td>33.5</td>\n",
              "      <td>2.1</td>\n",
              "      <td>0.1</td>\n",
              "      <td>3.2</td>\n",
              "      <td>3.3</td>\n",
              "      <td>92.7</td>\n",
              "      <td>0.0</td>\n",
              "      <td>0.5</td>\n",
              "      <td>85.5</td>\n",
              "      <td>6.6</td>\n",
              "    </tr>\n",
              "    <tr>\n",
              "      <th>1853</th>\n",
              "      <td>West Rajasthan</td>\n",
              "      <td>1905</td>\n",
              "      <td>6.3</td>\n",
              "      <td>4.8</td>\n",
              "      <td>0.7</td>\n",
              "      <td>1.3</td>\n",
              "      <td>0.3</td>\n",
              "      <td>4.9</td>\n",
              "      <td>30.1</td>\n",
              "      <td>0.6</td>\n",
              "      <td>64.5</td>\n",
              "      <td>0.0</td>\n",
              "      <td>0.0</td>\n",
              "      <td>0.9</td>\n",
              "      <td>114.4</td>\n",
              "      <td>11.0</td>\n",
              "      <td>2.4</td>\n",
              "      <td>100.1</td>\n",
              "      <td>0.9</td>\n",
              "    </tr>\n",
              "    <tr>\n",
              "      <th>2451</th>\n",
              "      <td>Saurashtra &amp; Kutch</td>\n",
              "      <td>1918</td>\n",
              "      <td>0.0</td>\n",
              "      <td>0.0</td>\n",
              "      <td>0.6</td>\n",
              "      <td>0.6</td>\n",
              "      <td>3.8</td>\n",
              "      <td>9.9</td>\n",
              "      <td>45.0</td>\n",
              "      <td>49.0</td>\n",
              "      <td>8.6</td>\n",
              "      <td>0.2</td>\n",
              "      <td>0.0</td>\n",
              "      <td>0.0</td>\n",
              "      <td>117.6</td>\n",
              "      <td>0.0</td>\n",
              "      <td>5.0</td>\n",
              "      <td>112.4</td>\n",
              "      <td>0.2</td>\n",
              "    </tr>\n",
              "  </tbody>\n",
              "</table>\n",
              "</div>\n",
              "      <button class=\"colab-df-convert\" onclick=\"convertToInteractive('df-15e70e69-39c3-4fd5-9c96-977340cb23d0')\"\n",
              "              title=\"Convert this dataframe to an interactive table.\"\n",
              "              style=\"display:none;\">\n",
              "        \n",
              "  <svg xmlns=\"http://www.w3.org/2000/svg\" height=\"24px\"viewBox=\"0 0 24 24\"\n",
              "       width=\"24px\">\n",
              "    <path d=\"M0 0h24v24H0V0z\" fill=\"none\"/>\n",
              "    <path d=\"M18.56 5.44l.94 2.06.94-2.06 2.06-.94-2.06-.94-.94-2.06-.94 2.06-2.06.94zm-11 1L8.5 8.5l.94-2.06 2.06-.94-2.06-.94L8.5 2.5l-.94 2.06-2.06.94zm10 10l.94 2.06.94-2.06 2.06-.94-2.06-.94-.94-2.06-.94 2.06-2.06.94z\"/><path d=\"M17.41 7.96l-1.37-1.37c-.4-.4-.92-.59-1.43-.59-.52 0-1.04.2-1.43.59L10.3 9.45l-7.72 7.72c-.78.78-.78 2.05 0 2.83L4 21.41c.39.39.9.59 1.41.59.51 0 1.02-.2 1.41-.59l7.78-7.78 2.81-2.81c.8-.78.8-2.07 0-2.86zM5.41 20L4 18.59l7.72-7.72 1.47 1.35L5.41 20z\"/>\n",
              "  </svg>\n",
              "      </button>\n",
              "      \n",
              "  <style>\n",
              "    .colab-df-container {\n",
              "      display:flex;\n",
              "      flex-wrap:wrap;\n",
              "      gap: 12px;\n",
              "    }\n",
              "\n",
              "    .colab-df-convert {\n",
              "      background-color: #E8F0FE;\n",
              "      border: none;\n",
              "      border-radius: 50%;\n",
              "      cursor: pointer;\n",
              "      display: none;\n",
              "      fill: #1967D2;\n",
              "      height: 32px;\n",
              "      padding: 0 0 0 0;\n",
              "      width: 32px;\n",
              "    }\n",
              "\n",
              "    .colab-df-convert:hover {\n",
              "      background-color: #E2EBFA;\n",
              "      box-shadow: 0px 1px 2px rgba(60, 64, 67, 0.3), 0px 1px 3px 1px rgba(60, 64, 67, 0.15);\n",
              "      fill: #174EA6;\n",
              "    }\n",
              "\n",
              "    [theme=dark] .colab-df-convert {\n",
              "      background-color: #3B4455;\n",
              "      fill: #D2E3FC;\n",
              "    }\n",
              "\n",
              "    [theme=dark] .colab-df-convert:hover {\n",
              "      background-color: #434B5C;\n",
              "      box-shadow: 0px 1px 3px 1px rgba(0, 0, 0, 0.15);\n",
              "      filter: drop-shadow(0px 1px 2px rgba(0, 0, 0, 0.3));\n",
              "      fill: #FFFFFF;\n",
              "    }\n",
              "  </style>\n",
              "\n",
              "      <script>\n",
              "        const buttonEl =\n",
              "          document.querySelector('#df-15e70e69-39c3-4fd5-9c96-977340cb23d0 button.colab-df-convert');\n",
              "        buttonEl.style.display =\n",
              "          google.colab.kernel.accessAllowed ? 'block' : 'none';\n",
              "\n",
              "        async function convertToInteractive(key) {\n",
              "          const element = document.querySelector('#df-15e70e69-39c3-4fd5-9c96-977340cb23d0');\n",
              "          const dataTable =\n",
              "            await google.colab.kernel.invokeFunction('convertToInteractive',\n",
              "                                                     [key], {});\n",
              "          if (!dataTable) return;\n",
              "\n",
              "          const docLinkHtml = 'Like what you see? Visit the ' +\n",
              "            '<a target=\"_blank\" href=https://colab.research.google.com/notebooks/data_table.ipynb>data table notebook</a>'\n",
              "            + ' to learn more about interactive tables.';\n",
              "          element.innerHTML = '';\n",
              "          dataTable['output_type'] = 'display_data';\n",
              "          await google.colab.output.renderOutput(dataTable, element);\n",
              "          const docLink = document.createElement('div');\n",
              "          docLink.innerHTML = docLinkHtml;\n",
              "          element.appendChild(docLink);\n",
              "        }\n",
              "      </script>\n",
              "    </div>\n",
              "  </div>\n",
              "  "
            ]
          },
          "metadata": {},
          "execution_count": 22
        }
      ]
    },
    {
      "cell_type": "code",
      "source": [
        "df_so_ana.head().plot(kind = 'bar')"
      ],
      "metadata": {
        "colab": {
          "base_uri": "https://localhost:8080/",
          "height": 358
        },
        "id": "mV_t6j0JEhRd",
        "outputId": "714e3f1e-c47b-4f2e-830f-ca640953e59a"
      },
      "execution_count": null,
      "outputs": [
        {
          "output_type": "execute_result",
          "data": {
            "text/plain": [
              "<matplotlib.axes._subplots.AxesSubplot at 0x7f91ace01e90>"
            ]
          },
          "metadata": {},
          "execution_count": 23
        },
        {
          "output_type": "display_data",
          "data": {
            "text/plain": [
              "<Figure size 432x288 with 1 Axes>"
            ],
            "image/png": "[encoded data removed]"
          },
          "metadata": {
            "needs_background": "light"
          }
        }
      ]
    },
    {
      "cell_type": "code",
      "source": [
        "df_so_ana.tail().plot(kind = 'bar')"
      ],
      "metadata": {
        "colab": {
          "base_uri": "https://localhost:8080/",
          "height": 358
        },
        "id": "3PCLNSBrEnAl",
        "outputId": "d6a5778a-8452-4719-9b2e-dae6b50b67dd"
      },
      "execution_count": null,
      "outputs": [
        {
          "output_type": "execute_result",
          "data": {
            "text/plain": [
              "<matplotlib.axes._subplots.AxesSubplot at 0x7f91acc5d310>"
            ]
          },
          "metadata": {},
          "execution_count": 24
        },
        {
          "output_type": "display_data",
          "data": {
            "text/plain": [
              "<Figure size 432x288 with 1 Axes>"
            ],
            "image/png": "[encoded data removed]"
          },
          "metadata": {
            "needs_background": "light"
          }
        }
      ]
    },
    {
      "cell_type": "code",
      "source": [
        "df_so_ana.head().plot(x = 'SUBDIVISION', y='ANNUAL',kind = 'bar')"
      ],
      "metadata": {
        "colab": {
          "base_uri": "https://localhost:8080/",
          "height": 383
        },
        "id": "ZsKuK8y8EpJ9",
        "outputId": "cf885507-f7e9-42c1-acc2-f2a679ffe50b"
      },
      "execution_count": null,
      "outputs": [
        {
          "output_type": "execute_result",
          "data": {
            "text/plain": [
              "<matplotlib.axes._subplots.AxesSubplot at 0x7f91aca9a090>"
            ]
          },
          "metadata": {},
          "execution_count": 26
        },
        {
          "output_type": "display_data",
          "data": {
            "text/plain": [
              "<Figure size 432x288 with 1 Axes>"
            ],
            "image/png": "[encoded data removed]"
          },
          "metadata": {
            "needs_background": "light"
          }
        }
      ]
    },
    {
      "cell_type": "code",
      "source": [
        "\n",
        "df_so_ana.tail(30).plot(x = 'SUBDIVISION', y='ANNUAL',kind = 'bar')"
      ],
      "metadata": {
        "colab": {
          "base_uri": "https://localhost:8080/",
          "height": 425
        },
        "id": "wYdjCIkYEqfA",
        "outputId": "6fd8abbf-3e27-4971-bd69-9dbf58b2cf2f"
      },
      "execution_count": null,
      "outputs": [
        {
          "output_type": "execute_result",
          "data": {
            "text/plain": [
              "<matplotlib.axes._subplots.AxesSubplot at 0x7f91ac466f10>"
            ]
          },
          "metadata": {},
          "execution_count": 32
        },
        {
          "output_type": "display_data",
          "data": {
            "text/plain": [
              "<Figure size 432x288 with 1 Axes>"
            ],
            "image/png": "[encoded data removed]"
          },
          "metadata": {
            "needs_background": "light"
          }
        }
      ]
    },
    {
      "cell_type": "code",
      "source": [],
      "metadata": {
        "id": "Cfa2c_aiE1ui"
      },
      "execution_count": null,
      "outputs": []
    },
    {
      "cell_type": "markdown",
      "source": [
        "**Highest rainfall states**"
      ],
      "metadata": {
        "id": "dGKEvP1sFPI-"
      }
    },
    {
      "cell_type": "code",
      "source": [
        "df_so_ana.head().plot(x = 'SUBDIVISION', y='ANNUAL',kind = 'bar')"
      ],
      "metadata": {
        "colab": {
          "base_uri": "https://localhost:8080/",
          "height": 383
        },
        "id": "sLYhyPPiFX6T",
        "outputId": "f415cb71-f253-4940-8764-c65c3a3a47b0"
      },
      "execution_count": null,
      "outputs": [
        {
          "output_type": "execute_result",
          "data": {
            "text/plain": [
              "<matplotlib.axes._subplots.AxesSubplot at 0x7f91ac3b5490>"
            ]
          },
          "metadata": {},
          "execution_count": 33
        },
        {
          "output_type": "display_data",
          "data": {
            "text/plain": [
              "<Figure size 432x288 with 1 Axes>"
            ],
            "image/png": "[encoded data removed]"
          },
          "metadata": {
            "needs_background": "light"
          }
        }
      ]
    },
    {
      "cell_type": "code",
      "source": [
        "sort_val_sat = df_so_ana.groupby('SUBDIVISION').ANNUAL.mean().sort_values()"
      ],
      "metadata": {
        "id": "aLIcMc2mFeKZ"
      },
      "execution_count": null,
      "outputs": []
    },
    {
      "cell_type": "markdown",
      "source": [
        "**the state with less rain fall**"
      ],
      "metadata": {
        "id": "tLEF6SuPFlRA"
      }
    },
    {
      "cell_type": "code",
      "source": [
        "sort_val_sat.plot(kind= 'bar')"
      ],
      "metadata": {
        "colab": {
          "base_uri": "https://localhost:8080/",
          "height": 475
        },
        "id": "owjk8GOUFhCA",
        "outputId": "ee70f1e2-a737-4b06-a771-9df7945cdbfb"
      },
      "execution_count": null,
      "outputs": [
        {
          "output_type": "execute_result",
          "data": {
            "text/plain": [
              "<matplotlib.axes._subplots.AxesSubplot at 0x7f91ac2c3810>"
            ]
          },
          "metadata": {},
          "execution_count": 36
        },
        {
          "output_type": "display_data",
          "data": {
            "text/plain": [
              "<Figure size 432x288 with 1 Axes>"
            ],
            "image/png": "[encoded data removed]"
          },
          "metadata": {
            "needs_background": "light"
          }
        }
      ]
    },
    {
      "cell_type": "code",
      "source": [
        "sort_val_sat.head(10).plot(kind= 'bar')"
      ],
      "metadata": {
        "colab": {
          "base_uri": "https://localhost:8080/",
          "height": 430
        },
        "id": "4KmMqVcdFoho",
        "outputId": "a6577c13-5528-4eaf-d909-ed10b91323bf"
      },
      "execution_count": null,
      "outputs": [
        {
          "output_type": "execute_result",
          "data": {
            "text/plain": [
              "<matplotlib.axes._subplots.AxesSubplot at 0x7f91ac1dbe10>"
            ]
          },
          "metadata": {},
          "execution_count": 37
        },
        {
          "output_type": "display_data",
          "data": {
            "text/plain": [
              "<Figure size 432x288 with 1 Axes>"
            ],
            "image/png": "[encoded data removed]"
          },
          "metadata": {
            "needs_background": "light"
          }
        }
      ]
    },
    {
      "cell_type": "code",
      "source": [
        "sort_val_sat.tail(10).plot(kind= 'bar')"
      ],
      "metadata": {
        "colab": {
          "base_uri": "https://localhost:8080/",
          "height": 475
        },
        "id": "uY2Dd6SOFt8W",
        "outputId": "0f4fb96e-483b-4386-a520-4f6f09a6da24"
      },
      "execution_count": null,
      "outputs": [
        {
          "output_type": "execute_result",
          "data": {
            "text/plain": [
              "<matplotlib.axes._subplots.AxesSubplot at 0x7f91ac693950>"
            ]
          },
          "metadata": {},
          "execution_count": 38
        },
        {
          "output_type": "display_data",
          "data": {
            "text/plain": [
              "<Figure size 432x288 with 1 Axes>"
            ],
            "image/png": "[encoded data removed]"
          },
          "metadata": {
            "needs_background": "light"
          }
        }
      ]
    },
    {
      "cell_type": "code",
      "source": [
        "sns.FacetGrid(sort_val_sat)"
      ],
      "metadata": {
        "colab": {
          "base_uri": "https://localhost:8080/",
          "height": 242
        },
        "id": "V8gR-ddCFvx2",
        "outputId": "e66a02c2-e8ef-41ba-b528-5ad7417e75d7"
      },
      "execution_count": null,
      "outputs": [
        {
          "output_type": "execute_result",
          "data": {
            "text/plain": [
              "<seaborn.axisgrid.FacetGrid at 0x7f91ac0b3250>"
            ]
          },
          "metadata": {},
          "execution_count": 39
        },
        {
          "output_type": "display_data",
          "data": {
            "text/plain": [
              "<Figure size 216x216 with 1 Axes>"
            ],
            "image/png": "[encoded data removed]"
          },
          "metadata": {
            "needs_background": "light"
          }
        }
      ]
    },
    {
      "cell_type": "code",
      "source": [
        "df_so_ana.head()"
      ],
      "metadata": {
        "colab": {
          "base_uri": "https://localhost:8080/",
          "height": 357
        },
        "id": "d2pxvj28FxlR",
        "outputId": "b7d0d904-c3fc-4651-ed86-8bbb1bc84c2b"
      },
      "execution_count": null,
      "outputs": [
        {
          "output_type": "execute_result",
          "data": {
            "text/plain": [
              "             SUBDIVISION  YEAR  JAN  FEB  MAR  APR   MAY   JUN   JUL   AUG  \\\n",
              "1866      West Rajasthan  1918  0.4  0.0  2.7  0.5   0.7   5.6   5.1  40.8   \n",
              "1950      West Rajasthan  2002  0.3  2.6  1.0  1.4  11.2  26.9   2.4  17.2   \n",
              "2520  Saurashtra & Kutch  1987  0.0  0.0  0.4  0.0   0.1  31.4  18.4  33.5   \n",
              "1853      West Rajasthan  1905  6.3  4.8  0.7  1.3   0.3   4.9  30.1   0.6   \n",
              "2451  Saurashtra & Kutch  1918  0.0  0.0  0.6  0.6   3.8   9.9  45.0  49.0   \n",
              "\n",
              "       SEP  OCT  NOV  DEC  ANNUAL    JF   MAM   JJAS  OND  \n",
              "1866   5.9  0.2  0.2  0.1    62.3   0.4   4.0   57.4  0.5  \n",
              "1950  20.6  0.1  2.5  6.0    92.4   3.0  13.7   67.2  8.6  \n",
              "2520   2.1  0.1  3.2  3.3    92.7   0.0   0.5   85.5  6.6  \n",
              "1853  64.5  0.0  0.0  0.9   114.4  11.0   2.4  100.1  0.9  \n",
              "2451   8.6  0.2  0.0  0.0   117.6   0.0   5.0  112.4  0.2  "
            ],
            "text/html": [
              "\n",
              "  <div id=\"df-b79bde47-14b1-4a7d-ba3c-534ffd754323\">\n",
              "    <div class=\"colab-df-container\">\n",
              "      <div>\n",
              "<style scoped>\n",
              "    .dataframe tbody tr th:only-of-type {\n",
              "        vertical-align: middle;\n",
              "    }\n",
              "\n",
              "    .dataframe tbody tr th {\n",
              "        vertical-align: top;\n",
              "    }\n",
              "\n",
              "    .dataframe thead th {\n",
              "        text-align: right;\n",
              "    }\n",
              "</style>\n",
              "<table border=\"1\" class=\"dataframe\">\n",
              "  <thead>\n",
              "    <tr style=\"text-align: right;\">\n",
              "      <th></th>\n",
              "      <th>SUBDIVISION</th>\n",
              "      <th>YEAR</th>\n",
              "      <th>JAN</th>\n",
              "      <th>FEB</th>\n",
              "      <th>MAR</th>\n",
              "      <th>APR</th>\n",
              "      <th>MAY</th>\n",
              "      <th>JUN</th>\n",
              "      <th>JUL</th>\n",
              "      <th>AUG</th>\n",
              "      <th>SEP</th>\n",
              "      <th>OCT</th>\n",
              "      <th>NOV</th>\n",
              "      <th>DEC</th>\n",
              "      <th>ANNUAL</th>\n",
              "      <th>JF</th>\n",
              "      <th>MAM</th>\n",
              "      <th>JJAS</th>\n",
              "      <th>OND</th>\n",
              "    </tr>\n",
              "  </thead>\n",
              "  <tbody>\n",
              "    <tr>\n",
              "      <th>1866</th>\n",
              "      <td>West Rajasthan</td>\n",
              "      <td>1918</td>\n",
              "      <td>0.4</td>\n",
              "      <td>0.0</td>\n",
              "      <td>2.7</td>\n",
              "      <td>0.5</td>\n",
              "      <td>0.7</td>\n",
              "      <td>5.6</td>\n",
              "      <td>5.1</td>\n",
              "      <td>40.8</td>\n",
              "      <td>5.9</td>\n",
              "      <td>0.2</td>\n",
              "      <td>0.2</td>\n",
              "      <td>0.1</td>\n",
              "      <td>62.3</td>\n",
              "      <td>0.4</td>\n",
              "      <td>4.0</td>\n",
              "      <td>57.4</td>\n",
              "      <td>0.5</td>\n",
              "    </tr>\n",
              "    <tr>\n",
              "      <th>1950</th>\n",
              "      <td>West Rajasthan</td>\n",
              "      <td>2002</td>\n",
              "      <td>0.3</td>\n",
              "      <td>2.6</td>\n",
              "      <td>1.0</td>\n",
              "      <td>1.4</td>\n",
              "      <td>11.2</td>\n",
              "      <td>26.9</td>\n",
              "      <td>2.4</td>\n",
              "      <td>17.2</td>\n",
              "      <td>20.6</td>\n",
              "      <td>0.1</td>\n",
              "      <td>2.5</td>\n",
              "      <td>6.0</td>\n",
              "      <td>92.4</td>\n",
              "      <td>3.0</td>\n",
              "      <td>13.7</td>\n",
              "      <td>67.2</td>\n",
              "      <td>8.6</td>\n",
              "    </tr>\n",
              "    <tr>\n",
              "      <th>2520</th>\n",
              "      <td>Saurashtra &amp; Kutch</td>\n",
              "      <td>1987</td>\n",
              "      <td>0.0</td>\n",
              "      <td>0.0</td>\n",
              "      <td>0.4</td>\n",
              "      <td>0.0</td>\n",
              "      <td>0.1</td>\n",
              "      <td>31.4</td>\n",
              "      <td>18.4</td>\n",
              "      <td>33.5</td>\n",
              "      <td>2.1</td>\n",
              "      <td>0.1</td>\n",
              "      <td>3.2</td>\n",
              "      <td>3.3</td>\n",
              "      <td>92.7</td>\n",
              "      <td>0.0</td>\n",
              "      <td>0.5</td>\n",
              "      <td>85.5</td>\n",
              "      <td>6.6</td>\n",
              "    </tr>\n",
              "    <tr>\n",
              "      <th>1853</th>\n",
              "      <td>West Rajasthan</td>\n",
              "      <td>1905</td>\n",
              "      <td>6.3</td>\n",
              "      <td>4.8</td>\n",
              "      <td>0.7</td>\n",
              "      <td>1.3</td>\n",
              "      <td>0.3</td>\n",
              "      <td>4.9</td>\n",
              "      <td>30.1</td>\n",
              "      <td>0.6</td>\n",
              "      <td>64.5</td>\n",
              "      <td>0.0</td>\n",
              "      <td>0.0</td>\n",
              "      <td>0.9</td>\n",
              "      <td>114.4</td>\n",
              "      <td>11.0</td>\n",
              "      <td>2.4</td>\n",
              "      <td>100.1</td>\n",
              "      <td>0.9</td>\n",
              "    </tr>\n",
              "    <tr>\n",
              "      <th>2451</th>\n",
              "      <td>Saurashtra &amp; Kutch</td>\n",
              "      <td>1918</td>\n",
              "      <td>0.0</td>\n",
              "      <td>0.0</td>\n",
              "      <td>0.6</td>\n",
              "      <td>0.6</td>\n",
              "      <td>3.8</td>\n",
              "      <td>9.9</td>\n",
              "      <td>45.0</td>\n",
              "      <td>49.0</td>\n",
              "      <td>8.6</td>\n",
              "      <td>0.2</td>\n",
              "      <td>0.0</td>\n",
              "      <td>0.0</td>\n",
              "      <td>117.6</td>\n",
              "      <td>0.0</td>\n",
              "      <td>5.0</td>\n",
              "      <td>112.4</td>\n",
              "      <td>0.2</td>\n",
              "    </tr>\n",
              "  </tbody>\n",
              "</table>\n",
              "</div>\n",
              "      <button class=\"colab-df-convert\" onclick=\"convertToInteractive('df-b79bde47-14b1-4a7d-ba3c-534ffd754323')\"\n",
              "              title=\"Convert this dataframe to an interactive table.\"\n",
              "              style=\"display:none;\">\n",
              "        \n",
              "  <svg xmlns=\"http://www.w3.org/2000/svg\" height=\"24px\"viewBox=\"0 0 24 24\"\n",
              "       width=\"24px\">\n",
              "    <path d=\"M0 0h24v24H0V0z\" fill=\"none\"/>\n",
              "    <path d=\"M18.56 5.44l.94 2.06.94-2.06 2.06-.94-2.06-.94-.94-2.06-.94 2.06-2.06.94zm-11 1L8.5 8.5l.94-2.06 2.06-.94-2.06-.94L8.5 2.5l-.94 2.06-2.06.94zm10 10l.94 2.06.94-2.06 2.06-.94-2.06-.94-.94-2.06-.94 2.06-2.06.94z\"/><path d=\"M17.41 7.96l-1.37-1.37c-.4-.4-.92-.59-1.43-.59-.52 0-1.04.2-1.43.59L10.3 9.45l-7.72 7.72c-.78.78-.78 2.05 0 2.83L4 21.41c.39.39.9.59 1.41.59.51 0 1.02-.2 1.41-.59l7.78-7.78 2.81-2.81c.8-.78.8-2.07 0-2.86zM5.41 20L4 18.59l7.72-7.72 1.47 1.35L5.41 20z\"/>\n",
              "  </svg>\n",
              "      </button>\n",
              "      \n",
              "  <style>\n",
              "    .colab-df-container {\n",
              "      display:flex;\n",
              "      flex-wrap:wrap;\n",
              "      gap: 12px;\n",
              "    }\n",
              "\n",
              "    .colab-df-convert {\n",
              "      background-color: #E8F0FE;\n",
              "      border: none;\n",
              "      border-radius: 50%;\n",
              "      cursor: pointer;\n",
              "      display: none;\n",
              "      fill: #1967D2;\n",
              "      height: 32px;\n",
              "      padding: 0 0 0 0;\n",
              "      width: 32px;\n",
              "    }\n",
              "\n",
              "    .colab-df-convert:hover {\n",
              "      background-color: #E2EBFA;\n",
              "      box-shadow: 0px 1px 2px rgba(60, 64, 67, 0.3), 0px 1px 3px 1px rgba(60, 64, 67, 0.15);\n",
              "      fill: #174EA6;\n",
              "    }\n",
              "\n",
              "    [theme=dark] .colab-df-convert {\n",
              "      background-color: #3B4455;\n",
              "      fill: #D2E3FC;\n",
              "    }\n",
              "\n",
              "    [theme=dark] .colab-df-convert:hover {\n",
              "      background-color: #434B5C;\n",
              "      box-shadow: 0px 1px 3px 1px rgba(0, 0, 0, 0.15);\n",
              "      filter: drop-shadow(0px 1px 2px rgba(0, 0, 0, 0.3));\n",
              "      fill: #FFFFFF;\n",
              "    }\n",
              "  </style>\n",
              "\n",
              "      <script>\n",
              "        const buttonEl =\n",
              "          document.querySelector('#df-b79bde47-14b1-4a7d-ba3c-534ffd754323 button.colab-df-convert');\n",
              "        buttonEl.style.display =\n",
              "          google.colab.kernel.accessAllowed ? 'block' : 'none';\n",
              "\n",
              "        async function convertToInteractive(key) {\n",
              "          const element = document.querySelector('#df-b79bde47-14b1-4a7d-ba3c-534ffd754323');\n",
              "          const dataTable =\n",
              "            await google.colab.kernel.invokeFunction('convertToInteractive',\n",
              "                                                     [key], {});\n",
              "          if (!dataTable) return;\n",
              "\n",
              "          const docLinkHtml = 'Like what you see? Visit the ' +\n",
              "            '<a target=\"_blank\" href=https://colab.research.google.com/notebooks/data_table.ipynb>data table notebook</a>'\n",
              "            + ' to learn more about interactive tables.';\n",
              "          element.innerHTML = '';\n",
              "          dataTable['output_type'] = 'display_data';\n",
              "          await google.colab.output.renderOutput(dataTable, element);\n",
              "          const docLink = document.createElement('div');\n",
              "          docLink.innerHTML = docLinkHtml;\n",
              "          element.appendChild(docLink);\n",
              "        }\n",
              "      </script>\n",
              "    </div>\n",
              "  </div>\n",
              "  "
            ]
          },
          "metadata": {},
          "execution_count": 40
        }
      ]
    },
    {
      "cell_type": "code",
      "source": [
        "df_so_ana.columns = ['SUBDIVISION','DISTRICT','JAN','FEB','MAR','APR','MAY','JUN','JUL','AUG','SEP','OCT','NOV','DEC','ANNUAL','Jan_Feb','Mar_May','Jun_Sep','Oct_Dec']"
      ],
      "metadata": {
        "id": "CwoB1mJGF03a"
      },
      "execution_count": null,
      "outputs": []
    },
    {
      "cell_type": "code",
      "source": [
        "df_so_ana.groupby('SUBDIVISION').Jan_Feb.mean().sort_values()"
      ],
      "metadata": {
        "colab": {
          "base_uri": "https://localhost:8080/"
        },
        "id": "_GksIVblF4Wq",
        "outputId": "a6adf1ee-b81f-4ae6-d64c-494fe2c56658"
      },
      "execution_count": null,
      "outputs": [
        {
          "output_type": "execute_result",
          "data": {
            "text/plain": [
              "SUBDIVISION\n",
              "Konkan & Goa                            1.782906\n",
              "Saurashtra & Kutch                      2.705983\n",
              "Gujarat Region                          2.926496\n",
              "Coastal Karnataka                       3.326724\n",
              "Madhya Maharashtra                      4.454701\n",
              "North Interior Karnataka                6.084615\n",
              "South Interior Karnataka                7.043590\n",
              "West Rajasthan                          8.182906\n",
              "Matathwada                              9.313675\n",
              "East Rajasthan                         11.715385\n",
              "Rayalseema                             15.380342\n",
              "West Madhya Pradesh                    15.470690\n",
              "Telangana                              17.111111\n",
              "Coastal Andhra Pradesh                 20.085470\n",
              "Vidarbha                               22.211111\n",
              "Bihar                                  27.392308\n",
              "Kerala                                 27.541026\n",
              "East Uttar Pradesh                     31.482906\n",
              "Orissa                                 31.676068\n",
              "Chhattisgarh                           32.988034\n",
              "Haryana Delhi & Chandigarh             34.049573\n",
              "Gangetic West Bengal                   34.864103\n",
              "West Uttar Pradesh                     35.178632\n",
              "Sub Himalayan West Bengal & Sikkim     36.735043\n",
              "Tamil Nadu                             36.958974\n",
              "East Madhya Pradesh                    37.730769\n",
              "Jharkhand                              41.311966\n",
              "Lakshadweep                            42.578761\n",
              "Assam & Meghalaya                      48.220513\n",
              "Naga Mani Mizo Tripura                 50.270940\n",
              "Punjab                                 51.636752\n",
              "Andaman & Nicobar Islands              82.067857\n",
              "Uttarakhand                           115.970940\n",
              "Arunachal Pradesh                     137.602041\n",
              "Himachal Pradesh                      174.322222\n",
              "Jammu & Kashmir                       217.530769\n",
              "Name: Jan_Feb, dtype: float64"
            ]
          },
          "metadata": {},
          "execution_count": 42
        }
      ]
    },
    {
      "cell_type": "code",
      "source": [
        "df_so_ana.groupby('SUBDIVISION').Jan_Feb.mean().sort_values().plot()\n",
        "df_so_ana.groupby('SUBDIVISION').Jan_Feb.mean().sort_values().plot(kind = 'bar')"
      ],
      "metadata": {
        "colab": {
          "base_uri": "https://localhost:8080/",
          "height": 475
        },
        "id": "K01lwp2IF8Tx",
        "outputId": "3aaaed98-70bb-4e70-90da-a7ae750fe581"
      },
      "execution_count": null,
      "outputs": [
        {
          "output_type": "execute_result",
          "data": {
            "text/plain": [
              "<matplotlib.axes._subplots.AxesSubplot at 0x7f91ac35fb50>"
            ]
          },
          "metadata": {},
          "execution_count": 43
        },
        {
          "output_type": "display_data",
          "data": {
            "text/plain": [
              "<Figure size 432x288 with 1 Axes>"
            ],
            "image/png": "[encoded data removed]"
          },
          "metadata": {
            "needs_background": "light"
          }
        }
      ]
    },
    {
      "cell_type": "code",
      "source": [
        "df_so_ana.groupby('SUBDIVISION').Jan_Feb.mean().sort_values().head(10).plot()\n",
        "df_so_ana.groupby('SUBDIVISION').Jan_Feb.mean().sort_values().head(10).plot(kind = 'bar')"
      ],
      "metadata": {
        "colab": {
          "base_uri": "https://localhost:8080/",
          "height": 409
        },
        "id": "QdyJEUZWGDCN",
        "outputId": "d572585c-13fe-4aed-9ac5-740330f74d89"
      },
      "execution_count": null,
      "outputs": [
        {
          "output_type": "execute_result",
          "data": {
            "text/plain": [
              "<matplotlib.axes._subplots.AxesSubplot at 0x7f91a9740ad0>"
            ]
          },
          "metadata": {},
          "execution_count": 44
        },
        {
          "output_type": "display_data",
          "data": {
            "text/plain": [
              "<Figure size 432x288 with 1 Axes>"
            ],
            "image/png": "[encoded data removed]"
          },
          "metadata": {
            "needs_background": "light"
          }
        }
      ]
    },
    {
      "cell_type": "code",
      "source": [
        "df_so_ana.groupby('SUBDIVISION').Jan_Feb.mean().sort_values().tail(10).plot()\n",
        "df_so_ana.groupby('SUBDIVISION').Jan_Feb.mean().sort_values().tail(10).plot(kind = 'bar')"
      ],
      "metadata": {
        "colab": {
          "base_uri": "https://localhost:8080/",
          "height": 425
        },
        "id": "QownH9SRGJdO",
        "outputId": "2a722b2d-e73b-4a13-92bf-c4fce4d748e1"
      },
      "execution_count": null,
      "outputs": [
        {
          "output_type": "execute_result",
          "data": {
            "text/plain": [
              "<matplotlib.axes._subplots.AxesSubplot at 0x7f91a96d4e10>"
            ]
          },
          "metadata": {},
          "execution_count": 45
        },
        {
          "output_type": "display_data",
          "data": {
            "text/plain": [
              "<Figure size 432x288 with 1 Axes>"
            ],
            "image/png": "[encoded data removed]"
          },
          "metadata": {
            "needs_background": "light"
          }
        }
      ]
    },
    {
      "cell_type": "code",
      "source": [
        "df_so_ana.columns"
      ],
      "metadata": {
        "colab": {
          "base_uri": "https://localhost:8080/"
        },
        "id": "hgCpyMdhGOe0",
        "outputId": "cf98c5f2-d15d-4b91-a140-8927b5d96d23"
      },
      "execution_count": null,
      "outputs": [
        {
          "output_type": "execute_result",
          "data": {
            "text/plain": [
              "Index(['SUBDIVISION', 'DISTRICT', 'JAN', 'FEB', 'MAR', 'APR', 'MAY', 'JUN',\n",
              "       'JUL', 'AUG', 'SEP', 'OCT', 'NOV', 'DEC', 'ANNUAL', 'Jan_Feb',\n",
              "       'Mar_May', 'Jun_Sep', 'Oct_Dec'],\n",
              "      dtype='object')"
            ]
          },
          "metadata": {},
          "execution_count": 46
        }
      ]
    },
    {
      "cell_type": "code",
      "source": [
        "df_so_ana.groupby('SUBDIVISION').Mar_May.mean().sort_values()\n",
        "df_so_ana.groupby('SUBDIVISION').Mar_May.mean().sort_values().plot()\n",
        "df_so_ana.groupby('SUBDIVISION').Mar_May.mean().sort_values().plot(kind = 'bar')"
      ],
      "metadata": {
        "colab": {
          "base_uri": "https://localhost:8080/",
          "height": 475
        },
        "id": "hUw1RzKYGQ18",
        "outputId": "1db4a0c3-e447-4403-87ec-0806c6f45704"
      },
      "execution_count": null,
      "outputs": [
        {
          "output_type": "execute_result",
          "data": {
            "text/plain": [
              "<matplotlib.axes._subplots.AxesSubplot at 0x7f91a95ee150>"
            ]
          },
          "metadata": {},
          "execution_count": 47
        },
        {
          "output_type": "display_data",
          "data": {
            "text/plain": [
              "<Figure size 432x288 with 1 Axes>"
            ],
            "image/png": "[encoded data removed]"
          },
          "metadata": {
            "needs_background": "light"
          }
        }
      ]
    },
    {
      "cell_type": "code",
      "source": [
        "df_so_ana.groupby('SUBDIVISION').Mar_May.mean().sort_values().head(10).plot()\n",
        "df_so_ana.groupby('SUBDIVISION').Mar_May.mean().sort_values().head(10).plot(kind = 'bar')"
      ],
      "metadata": {
        "colab": {
          "base_uri": "https://localhost:8080/",
          "height": 397
        },
        "id": "g7mqgZpQGYSe",
        "outputId": "352834fe-6659-4c7e-cbf7-678694adb9b1"
      },
      "execution_count": null,
      "outputs": [
        {
          "output_type": "execute_result",
          "data": {
            "text/plain": [
              "<matplotlib.axes._subplots.AxesSubplot at 0x7f91a950b690>"
            ]
          },
          "metadata": {},
          "execution_count": 48
        },
        {
          "output_type": "display_data",
          "data": {
            "text/plain": [
              "<Figure size 432x288 with 1 Axes>"
            ],
            "image/png": "[encoded data removed]"
          },
          "metadata": {
            "needs_background": "light"
          }
        }
      ]
    },
    {
      "cell_type": "code",
      "source": [
        "df_so_ana.groupby('SUBDIVISION').Mar_May.mean().sort_values().tail(10).plot()\n",
        "df_so_ana.groupby('SUBDIVISION').Mar_May.mean().sort_values().tail(10).plot(kind = 'bar')"
      ],
      "metadata": {
        "colab": {
          "base_uri": "https://localhost:8080/",
          "height": 475
        },
        "id": "-_UGiEEfGhlM",
        "outputId": "9681fc9a-d544-42ee-911c-ca6c2c8b1c15"
      },
      "execution_count": null,
      "outputs": [
        {
          "output_type": "execute_result",
          "data": {
            "text/plain": [
              "<matplotlib.axes._subplots.AxesSubplot at 0x7f91aed66890>"
            ]
          },
          "metadata": {},
          "execution_count": 49
        },
        {
          "output_type": "display_data",
          "data": {
            "text/plain": [
              "<Figure size 432x288 with 1 Axes>"
            ],
            "image/png": "[encoded data removed]"
          },
          "metadata": {
            "needs_background": "light"
          }
        }
      ]
    },
    {
      "cell_type": "code",
      "source": [
        "df_so_ana.groupby('SUBDIVISION').Oct_Dec.mean().sort_values()\n",
        "df_so_ana.groupby('SUBDIVISION').Oct_Dec.mean().sort_values().plot()\n",
        "df_so_ana.groupby('SUBDIVISION').Oct_Dec.mean().sort_values().plot(kind = 'bar')"
      ],
      "metadata": {
        "colab": {
          "base_uri": "https://localhost:8080/",
          "height": 475
        },
        "id": "oCBUfHIrGoQH",
        "outputId": "173fd99d-1a2d-4d2e-9a56-e6528acc91bb"
      },
      "execution_count": null,
      "outputs": [
        {
          "output_type": "execute_result",
          "data": {
            "text/plain": [
              "<matplotlib.axes._subplots.AxesSubplot at 0x7f91a93cb2d0>"
            ]
          },
          "metadata": {},
          "execution_count": 51
        },
        {
          "output_type": "display_data",
          "data": {
            "text/plain": [
              "<Figure size 432x288 with 1 Axes>"
            ],
            "image/png": "[encoded data removed]"
          },
          "metadata": {
            "needs_background": "light"
          }
        }
      ]
    },
    {
      "cell_type": "code",
      "source": [
        "df_so_ana.groupby('SUBDIVISION').Oct_Dec.mean().sort_values().tail(10).plot()\n",
        "df_so_ana.groupby('SUBDIVISION').Oct_Dec.mean().sort_values().tail(10).plot(kind = 'bar')"
      ],
      "metadata": {
        "colab": {
          "base_uri": "https://localhost:8080/",
          "height": 425
        },
        "id": "6utGKThkIRbk",
        "outputId": "c4bf3060-c562-404f-bdbb-fa262e72de65"
      },
      "execution_count": null,
      "outputs": [
        {
          "output_type": "execute_result",
          "data": {
            "text/plain": [
              "<matplotlib.axes._subplots.AxesSubplot at 0x7f91a9277a10>"
            ]
          },
          "metadata": {},
          "execution_count": 53
        },
        {
          "output_type": "display_data",
          "data": {
            "text/plain": [
              "<Figure size 432x288 with 1 Axes>"
            ],
            "image/png": "[encoded data removed]"
          },
          "metadata": {
            "needs_background": "light"
          }
        }
      ]
    },
    {
      "cell_type": "code",
      "source": [
        "data =pd.read_csv('/content/drive/MyDrive/Sub_Division_IMD_2017.csv')"
      ],
      "metadata": {
        "id": "0OzinuQGIUfs"
      },
      "execution_count": null,
      "outputs": []
    },
    {
      "cell_type": "code",
      "source": [
        "data.head()"
      ],
      "metadata": {
        "colab": {
          "base_uri": "https://localhost:8080/",
          "height": 444
        },
        "id": "--WkAZDfIpmQ",
        "outputId": "4134c850-53c6-4641-d1ae-2a9da517e9f2"
      },
      "execution_count": null,
      "outputs": [
        {
          "output_type": "execute_result",
          "data": {
            "text/plain": [
              "                 SUBDIVISION  YEAR   JAN    FEB   MAR    APR    MAY    JUN  \\\n",
              "0  Andaman & Nicobar Islands  1901  49.2   87.1  29.2    2.3  528.8  517.5   \n",
              "1  Andaman & Nicobar Islands  1902   0.0  159.8  12.2    0.0  446.1  537.1   \n",
              "2  Andaman & Nicobar Islands  1903  12.7  144.0   0.0    1.0  235.1  479.9   \n",
              "3  Andaman & Nicobar Islands  1904   9.4   14.7   0.0  202.4  304.5  495.1   \n",
              "4  Andaman & Nicobar Islands  1905   1.3    0.0   3.3   26.9  279.5  628.7   \n",
              "\n",
              "     JUL    AUG    SEP    OCT    NOV    DEC  ANNUAL     JF    MAM    JJAS  \\\n",
              "0  365.1  481.1  332.6  388.5  558.2   33.6  3373.2  136.3  560.3  1696.3   \n",
              "1  228.9  753.7  666.2  197.2  359.0  160.5  3520.7  159.8  458.3  2185.9   \n",
              "2  728.4  326.7  339.0  181.2  284.4  225.0  2957.4  156.7  236.1  1874.0   \n",
              "3  502.0  160.1  820.4  222.2  308.7   40.1  3079.6   24.1  506.9  1977.6   \n",
              "4  368.7  330.5  297.0  260.7   25.4  344.7  2566.7    1.3  309.7  1624.9   \n",
              "\n",
              "     OND  \n",
              "0  980.3  \n",
              "1  716.7  \n",
              "2  690.6  \n",
              "3  571.0  \n",
              "4  630.8  "
            ],
            "text/html": [
              "\n",
              "  <div id=\"df-834c2733-d52e-4e89-9fff-8ba33db11d72\">\n",
              "    <div class=\"colab-df-container\">\n",
              "      <div>\n",
              "<style scoped>\n",
              "    .dataframe tbody tr th:only-of-type {\n",
              "        vertical-align: middle;\n",
              "    }\n",
              "\n",
              "    .dataframe tbody tr th {\n",
              "        vertical-align: top;\n",
              "    }\n",
              "\n",
              "    .dataframe thead th {\n",
              "        text-align: right;\n",
              "    }\n",
              "</style>\n",
              "<table border=\"1\" class=\"dataframe\">\n",
              "  <thead>\n",
              "    <tr style=\"text-align: right;\">\n",
              "      <th></th>\n",
              "      <th>SUBDIVISION</th>\n",
              "      <th>YEAR</th>\n",
              "      <th>JAN</th>\n",
              "      <th>FEB</th>\n",
              "      <th>MAR</th>\n",
              "      <th>APR</th>\n",
              "      <th>MAY</th>\n",
              "      <th>JUN</th>\n",
              "      <th>JUL</th>\n",
              "      <th>AUG</th>\n",
              "      <th>SEP</th>\n",
              "      <th>OCT</th>\n",
              "      <th>NOV</th>\n",
              "      <th>DEC</th>\n",
              "      <th>ANNUAL</th>\n",
              "      <th>JF</th>\n",
              "      <th>MAM</th>\n",
              "      <th>JJAS</th>\n",
              "      <th>OND</th>\n",
              "    </tr>\n",
              "  </thead>\n",
              "  <tbody>\n",
              "    <tr>\n",
              "      <th>0</th>\n",
              "      <td>Andaman &amp; Nicobar Islands</td>\n",
              "      <td>1901</td>\n",
              "      <td>49.2</td>\n",
              "      <td>87.1</td>\n",
              "      <td>29.2</td>\n",
              "      <td>2.3</td>\n",
              "      <td>528.8</td>\n",
              "      <td>517.5</td>\n",
              "      <td>365.1</td>\n",
              "      <td>481.1</td>\n",
              "      <td>332.6</td>\n",
              "      <td>388.5</td>\n",
              "      <td>558.2</td>\n",
              "      <td>33.6</td>\n",
              "      <td>3373.2</td>\n",
              "      <td>136.3</td>\n",
              "      <td>560.3</td>\n",
              "      <td>1696.3</td>\n",
              "      <td>980.3</td>\n",
              "    </tr>\n",
              "    <tr>\n",
              "      <th>1</th>\n",
              "      <td>Andaman &amp; Nicobar Islands</td>\n",
              "      <td>1902</td>\n",
              "      <td>0.0</td>\n",
              "      <td>159.8</td>\n",
              "      <td>12.2</td>\n",
              "      <td>0.0</td>\n",
              "      <td>446.1</td>\n",
              "      <td>537.1</td>\n",
              "      <td>228.9</td>\n",
              "      <td>753.7</td>\n",
              "      <td>666.2</td>\n",
              "      <td>197.2</td>\n",
              "      <td>359.0</td>\n",
              "      <td>160.5</td>\n",
              "      <td>3520.7</td>\n",
              "      <td>159.8</td>\n",
              "      <td>458.3</td>\n",
              "      <td>2185.9</td>\n",
              "      <td>716.7</td>\n",
              "    </tr>\n",
              "    <tr>\n",
              "      <th>2</th>\n",
              "      <td>Andaman &amp; Nicobar Islands</td>\n",
              "      <td>1903</td>\n",
              "      <td>12.7</td>\n",
              "      <td>144.0</td>\n",
              "      <td>0.0</td>\n",
              "      <td>1.0</td>\n",
              "      <td>235.1</td>\n",
              "      <td>479.9</td>\n",
              "      <td>728.4</td>\n",
              "      <td>326.7</td>\n",
              "      <td>339.0</td>\n",
              "      <td>181.2</td>\n",
              "      <td>284.4</td>\n",
              "      <td>225.0</td>\n",
              "      <td>2957.4</td>\n",
              "      <td>156.7</td>\n",
              "      <td>236.1</td>\n",
              "      <td>1874.0</td>\n",
              "      <td>690.6</td>\n",
              "    </tr>\n",
              "    <tr>\n",
              "      <th>3</th>\n",
              "      <td>Andaman &amp; Nicobar Islands</td>\n",
              "      <td>1904</td>\n",
              "      <td>9.4</td>\n",
              "      <td>14.7</td>\n",
              "      <td>0.0</td>\n",
              "      <td>202.4</td>\n",
              "      <td>304.5</td>\n",
              "      <td>495.1</td>\n",
              "      <td>502.0</td>\n",
              "      <td>160.1</td>\n",
              "      <td>820.4</td>\n",
              "      <td>222.2</td>\n",
              "      <td>308.7</td>\n",
              "      <td>40.1</td>\n",
              "      <td>3079.6</td>\n",
              "      <td>24.1</td>\n",
              "      <td>506.9</td>\n",
              "      <td>1977.6</td>\n",
              "      <td>571.0</td>\n",
              "    </tr>\n",
              "    <tr>\n",
              "      <th>4</th>\n",
              "      <td>Andaman &amp; Nicobar Islands</td>\n",
              "      <td>1905</td>\n",
              "      <td>1.3</td>\n",
              "      <td>0.0</td>\n",
              "      <td>3.3</td>\n",
              "      <td>26.9</td>\n",
              "      <td>279.5</td>\n",
              "      <td>628.7</td>\n",
              "      <td>368.7</td>\n",
              "      <td>330.5</td>\n",
              "      <td>297.0</td>\n",
              "      <td>260.7</td>\n",
              "      <td>25.4</td>\n",
              "      <td>344.7</td>\n",
              "      <td>2566.7</td>\n",
              "      <td>1.3</td>\n",
              "      <td>309.7</td>\n",
              "      <td>1624.9</td>\n",
              "      <td>630.8</td>\n",
              "    </tr>\n",
              "  </tbody>\n",
              "</table>\n",
              "</div>\n",
              "      <button class=\"colab-df-convert\" onclick=\"convertToInteractive('df-834c2733-d52e-4e89-9fff-8ba33db11d72')\"\n",
              "              title=\"Convert this dataframe to an interactive table.\"\n",
              "              style=\"display:none;\">\n",
              "        \n",
              "  <svg xmlns=\"http://www.w3.org/2000/svg\" height=\"24px\"viewBox=\"0 0 24 24\"\n",
              "       width=\"24px\">\n",
              "    <path d=\"M0 0h24v24H0V0z\" fill=\"none\"/>\n",
              "    <path d=\"M18.56 5.44l.94 2.06.94-2.06 2.06-.94-2.06-.94-.94-2.06-.94 2.06-2.06.94zm-11 1L8.5 8.5l.94-2.06 2.06-.94-2.06-.94L8.5 2.5l-.94 2.06-2.06.94zm10 10l.94 2.06.94-2.06 2.06-.94-2.06-.94-.94-2.06-.94 2.06-2.06.94z\"/><path d=\"M17.41 7.96l-1.37-1.37c-.4-.4-.92-.59-1.43-.59-.52 0-1.04.2-1.43.59L10.3 9.45l-7.72 7.72c-.78.78-.78 2.05 0 2.83L4 21.41c.39.39.9.59 1.41.59.51 0 1.02-.2 1.41-.59l7.78-7.78 2.81-2.81c.8-.78.8-2.07 0-2.86zM5.41 20L4 18.59l7.72-7.72 1.47 1.35L5.41 20z\"/>\n",
              "  </svg>\n",
              "      </button>\n",
              "      \n",
              "  <style>\n",
              "    .colab-df-container {\n",
              "      display:flex;\n",
              "      flex-wrap:wrap;\n",
              "      gap: 12px;\n",
              "    }\n",
              "\n",
              "    .colab-df-convert {\n",
              "      background-color: #E8F0FE;\n",
              "      border: none;\n",
              "      border-radius: 50%;\n",
              "      cursor: pointer;\n",
              "      display: none;\n",
              "      fill: #1967D2;\n",
              "      height: 32px;\n",
              "      padding: 0 0 0 0;\n",
              "      width: 32px;\n",
              "    }\n",
              "\n",
              "    .colab-df-convert:hover {\n",
              "      background-color: #E2EBFA;\n",
              "      box-shadow: 0px 1px 2px rgba(60, 64, 67, 0.3), 0px 1px 3px 1px rgba(60, 64, 67, 0.15);\n",
              "      fill: #174EA6;\n",
              "    }\n",
              "\n",
              "    [theme=dark] .colab-df-convert {\n",
              "      background-color: #3B4455;\n",
              "      fill: #D2E3FC;\n",
              "    }\n",
              "\n",
              "    [theme=dark] .colab-df-convert:hover {\n",
              "      background-color: #434B5C;\n",
              "      box-shadow: 0px 1px 3px 1px rgba(0, 0, 0, 0.15);\n",
              "      filter: drop-shadow(0px 1px 2px rgba(0, 0, 0, 0.3));\n",
              "      fill: #FFFFFF;\n",
              "    }\n",
              "  </style>\n",
              "\n",
              "      <script>\n",
              "        const buttonEl =\n",
              "          document.querySelector('#df-834c2733-d52e-4e89-9fff-8ba33db11d72 button.colab-df-convert');\n",
              "        buttonEl.style.display =\n",
              "          google.colab.kernel.accessAllowed ? 'block' : 'none';\n",
              "\n",
              "        async function convertToInteractive(key) {\n",
              "          const element = document.querySelector('#df-834c2733-d52e-4e89-9fff-8ba33db11d72');\n",
              "          const dataTable =\n",
              "            await google.colab.kernel.invokeFunction('convertToInteractive',\n",
              "                                                     [key], {});\n",
              "          if (!dataTable) return;\n",
              "\n",
              "          const docLinkHtml = 'Like what you see? Visit the ' +\n",
              "            '<a target=\"_blank\" href=https://colab.research.google.com/notebooks/data_table.ipynb>data table notebook</a>'\n",
              "            + ' to learn more about interactive tables.';\n",
              "          element.innerHTML = '';\n",
              "          dataTable['output_type'] = 'display_data';\n",
              "          await google.colab.output.renderOutput(dataTable, element);\n",
              "          const docLink = document.createElement('div');\n",
              "          docLink.innerHTML = docLinkHtml;\n",
              "          element.appendChild(docLink);\n",
              "        }\n",
              "      </script>\n",
              "    </div>\n",
              "  </div>\n",
              "  "
            ]
          },
          "metadata": {},
          "execution_count": 57
        }
      ]
    }
  ]
}